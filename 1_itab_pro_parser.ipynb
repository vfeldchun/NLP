{
 "cells": [
  {
   "cell_type": "markdown",
   "id": "21dc7c43-6aeb-4d82-bad2-7f352571ab89",
   "metadata": {
    "tags": []
   },
   "source": [
    "# Парсер сайта https://itab.pro/"
   ]
  },
  {
   "cell_type": "markdown",
   "id": "b6019ae1-03dc-489b-b773-f7896425fc85",
   "metadata": {
    "tags": []
   },
   "source": [
    "Сайт содержит самый большой список проверенных российских БАДов с описанием и ценой"
   ]
  },
  {
   "cell_type": "code",
   "execution_count": 10,
   "id": "fca1d297-1bd3-433d-a8b2-e0e361eaeaed",
   "metadata": {
    "tags": []
   },
   "outputs": [
    {
     "name": "stdout",
     "output_type": "stream",
     "text": [
      "Requirement already satisfied: beautifulsoup4 in c:\\users\\vladuz\\anaconda3\\envs\\nlp\\lib\\site-packages (4.12.2)\n",
      "Requirement already satisfied: requests in c:\\users\\vladuz\\anaconda3\\envs\\nlp\\lib\\site-packages (2.31.0)\n",
      "Requirement already satisfied: soupsieve>1.2 in c:\\users\\vladuz\\anaconda3\\envs\\nlp\\lib\\site-packages (from beautifulsoup4) (2.4)\n",
      "Requirement already satisfied: charset-normalizer<4,>=2 in c:\\users\\vladuz\\anaconda3\\envs\\nlp\\lib\\site-packages (from requests) (2.0.4)\n",
      "Requirement already satisfied: idna<4,>=2.5 in c:\\users\\vladuz\\anaconda3\\envs\\nlp\\lib\\site-packages (from requests) (3.4)\n",
      "Requirement already satisfied: urllib3<3,>=1.21.1 in c:\\users\\vladuz\\anaconda3\\envs\\nlp\\lib\\site-packages (from requests) (1.26.16)\n",
      "Requirement already satisfied: certifi>=2017.4.17 in c:\\users\\vladuz\\anaconda3\\envs\\nlp\\lib\\site-packages (from requests) (2023.7.22)\n"
     ]
    },
    {
     "name": "stderr",
     "output_type": "stream",
     "text": [
      "WARNING: Ignoring invalid distribution -rotobuf (c:\\users\\vladuz\\anaconda3\\envs\\nlp\\lib\\site-packages)\n",
      "WARNING: Ignoring invalid distribution -rotobuf (c:\\users\\vladuz\\anaconda3\\envs\\nlp\\lib\\site-packages)\n"
     ]
    }
   ],
   "source": [
    "!pip install beautifulsoup4 requests"
   ]
  },
  {
   "cell_type": "markdown",
   "id": "7d59ccd4-6b9d-4546-8667-cfbd3466f036",
   "metadata": {},
   "source": [
    "## Загружаем необходимые библиотеки"
   ]
  },
  {
   "cell_type": "code",
   "execution_count": 1,
   "id": "2a64f9ac-25f6-4d70-a9f5-8e8403ba5340",
   "metadata": {
    "tags": []
   },
   "outputs": [],
   "source": [
    "import os\n",
    "import pandas as pd\n",
    "import re\n",
    "from lxml import html\n",
    "import requests\n",
    "from tqdm.notebook import tqdm\n",
    "from time import sleep\n",
    "\n",
    "tqdm.pandas()"
   ]
  },
  {
   "cell_type": "markdown",
   "id": "d3062510-3539-4083-8fb3-ca9a20ac561b",
   "metadata": {},
   "source": [
    "## Определяем необходимые функции"
   ]
  },
  {
   "cell_type": "code",
   "execution_count": 2,
   "id": "ebd1af5a-7bde-4496-a443-8fdf9685b3e0",
   "metadata": {},
   "outputs": [],
   "source": [
    "# Функция обьединяет иерархический список текста описание в единый и удалеет таги из списка \n",
    "# и также удаляет некоторые символы html разметки\n",
    "def preprocessing_text(text_list):\n",
    "    new_text_list = []\n",
    "    for item in text_list:\n",
    "        if item[0] == 'p':\n",
    "            new_text_list.append(re.sub(r\"\\xa0\", ' ', \"\".join(sent for sent in item[1])) + \"\\n\")\n",
    "            \n",
    "        elif item[0] == 'li': \n",
    "            new_text_list.append(re.sub(r\"\\xa0\", ' ', \"\".join(sent for sent in item[1])) + \"\\n\") \n",
    "            \n",
    "        elif item[0] == 'tr':\n",
    "            new_text_list.append(re.sub(r\"\\xa0\", ' ', \"\".join(sent + \" \" for sent in item[1])).strip() + \"\\n\") \n",
    "                \n",
    "    return new_text_list      "
   ]
  },
  {
   "cell_type": "code",
   "execution_count": 3,
   "id": "3731ca17-f9fb-49a8-be21-ce2606412f12",
   "metadata": {
    "tags": []
   },
   "outputs": [],
   "source": [
    "# Функция проходит по ссылам на описание продукта и возвращает предобработанное описание\n",
    "def get_desc_by_link(link):\n",
    "    prices_clean = []\n",
    "    price_list = []\n",
    "    product_desc = []\n",
    "    \n",
    "    response = requests.get(link, headers=headers)\n",
    "    sleep(1)\n",
    "    itab_dom = html.fromstring(response.text)\n",
    "    \n",
    "    # Получение наименования и описания БАДа\n",
    "    product_desc_html = itab_dom.xpath(\"//div[@class='html-area']\")\n",
    "    \n",
    "    for node in product_desc_html:\n",
    "        for item in node:\n",
    "            if item.tag == 'p':\n",
    "                product_desc.append([item.tag, item.xpath(\".//text()\")])\n",
    "            elif item.tag == 'ul':\n",
    "                for subitem in item:\n",
    "                    product_desc.append([subitem.tag, subitem.xpath(\".//text()\")])\n",
    "            elif item.tag == 'table':\n",
    "                for subitem in item:\n",
    "                    product_desc.append([subitem.tag, subitem.xpath(\".//text()\")])\n",
    "    \n",
    "    # Получение цены БАДа\n",
    "    product_price_html = itab_dom.xpath(\"//div[@class='quantity-counter-area']\")\n",
    "    \n",
    "    for price in product_price_html:\n",
    "        prices = price.xpath(\".//text()\")\n",
    "        for i in range(len(prices)):\n",
    "            prices_clean.append(re.sub(r\"\\xa0₽\", '', prices[i]))\n",
    "        price_list = [int(price) for price in prices_clean if price.isdigit()]\n",
    "    \n",
    "    if len(price_list) > 1:\n",
    "        return preprocessing_text(product_desc), price_list[1], price_list[0]\n",
    "    elif len(price_list) == 1:\n",
    "        return preprocessing_text(product_desc), price_list[0], 0\n",
    "    else:\n",
    "        return preprocessing_text(product_desc), 0, 0"
   ]
  },
  {
   "cell_type": "code",
   "execution_count": 4,
   "id": "15e65df7-b191-451d-87f8-be8ec9f870ad",
   "metadata": {
    "tags": []
   },
   "outputs": [],
   "source": [
    "def join_text_from_list(text_list):\n",
    "    return \"\".join(sent for sent in text_list)"
   ]
  },
  {
   "cell_type": "markdown",
   "id": "e4bed5ed-6aae-4b84-bcb2-1a3a462b968f",
   "metadata": {
    "tags": []
   },
   "source": [
    "## Выполняем загрузку и парсинг данных с сайта itab.pro"
   ]
  },
  {
   "cell_type": "markdown",
   "id": "1ca05032-fe30-4e97-99ad-63d895b69941",
   "metadata": {},
   "source": [
    "### Загружаем наименование и список ссылок на описание всех продуктов"
   ]
  },
  {
   "cell_type": "code",
   "execution_count": 5,
   "id": "2a76a622-eba0-4ae5-9e9d-58feab9cdac5",
   "metadata": {
    "tags": []
   },
   "outputs": [],
   "source": [
    "# Определим заголовок для выполнения запроса\n",
    "headers = {\n",
    "    'User-Agent': 'Mozilla/5.0 (Windows NT 10.0; Win64; x64) AppleWebKit/537.36 (KHTML, like Gecko) Chrome/109.0.0.0 Safari/537.36'\n",
    "}\n",
    "\n",
    "url = \"https://itab.pro/products/\"\n",
    "url_next_page = \"https://itab.pro/products/?page=\"\n",
    "url_head = \"https://itab.pro\"\n",
    "URL_PAGES = 56"
   ]
  },
  {
   "cell_type": "code",
   "execution_count": 6,
   "id": "7032cf5f-fee6-4955-8b92-7f609b678ec0",
   "metadata": {
    "tags": []
   },
   "outputs": [],
   "source": [
    "DS_FILE_PATH = \"itab_bad_products.csv\" "
   ]
  },
  {
   "cell_type": "code",
   "execution_count": 7,
   "id": "58f8166f-fe1e-4d39-bc00-1205fb6e1721",
   "metadata": {
    "tags": []
   },
   "outputs": [
    {
     "data": {
      "application/vnd.jupyter.widget-view+json": {
       "model_id": "8bc45d99a2894c9b8a95cb825f7cd71a",
       "version_major": 2,
       "version_minor": 0
      },
      "text/plain": [
       "  0%|          | 0/56 [00:00<?, ?it/s]"
      ]
     },
     "metadata": {},
     "output_type": "display_data"
    }
   ],
   "source": [
    "# Получаем наименование всех БАДов, ссылку на описание\n",
    "if not os.path.isfile(DS_FILE_PATH):\n",
    "    response = requests.get(url, headers=headers)\n",
    "    full_product_links = []\n",
    "    full_product_names = []\n",
    "    for i in tqdm(range(URL_PAGES)):\n",
    "        if i == 0:\n",
    "            response = requests.get(url, headers=headers)\n",
    "        else:\n",
    "            url_page = url_next_page + str(i)\n",
    "            response = requests.get(url_page, headers=headers)\n",
    "        \n",
    "        itab_dom = html.fromstring(response.text)\n",
    "    \n",
    "        products_link = itab_dom.xpath(\"//div[@class='row']/div/div/div[@class='product-card-top']/div/a/@href\")\n",
    "        products_link = [url_head + link for link in products_link]\n",
    "        products_name = itab_dom.xpath(\"//div[@class='row']/div/div/div[@class='product-card-top']/div/a[1]/text()\")\n",
    "        full_product_links.extend(products_link)\n",
    "        full_product_names.extend(products_name)\n",
    "        sleep(1)"
   ]
  },
  {
   "cell_type": "code",
   "execution_count": 13,
   "id": "8561f060-d36e-448c-b196-60df3d925d71",
   "metadata": {
    "tags": []
   },
   "outputs": [
    {
     "data": {
      "text/plain": [
       "(1680, 1680)"
      ]
     },
     "execution_count": 13,
     "metadata": {},
     "output_type": "execute_result"
    }
   ],
   "source": [
    "len(full_product_links), len(full_product_names)"
   ]
  },
  {
   "cell_type": "markdown",
   "id": "691a93ba-0bff-4a83-9018-41018cbb1f47",
   "metadata": {},
   "source": [
    "Создаем датасет БАДов "
   ]
  },
  {
   "cell_type": "code",
   "execution_count": 14,
   "id": "d4225eb9-5658-431c-8955-0bf513c6617a",
   "metadata": {
    "tags": []
   },
   "outputs": [],
   "source": [
    "products_df = pd.DataFrame(data=full_product_names, columns=['bad_name'])\n",
    "products_df['link'] = full_product_links"
   ]
  },
  {
   "cell_type": "code",
   "execution_count": 15,
   "id": "ba399f1d-3852-4733-b055-385687f14b3e",
   "metadata": {
    "tags": []
   },
   "outputs": [
    {
     "data": {
      "text/html": [
       "<div>\n",
       "<style scoped>\n",
       "    .dataframe tbody tr th:only-of-type {\n",
       "        vertical-align: middle;\n",
       "    }\n",
       "\n",
       "    .dataframe tbody tr th {\n",
       "        vertical-align: top;\n",
       "    }\n",
       "\n",
       "    .dataframe thead th {\n",
       "        text-align: right;\n",
       "    }\n",
       "</style>\n",
       "<table border=\"1\" class=\"dataframe\">\n",
       "  <thead>\n",
       "    <tr style=\"text-align: right;\">\n",
       "      <th></th>\n",
       "      <th>bad_name</th>\n",
       "      <th>link</th>\n",
       "    </tr>\n",
       "  </thead>\n",
       "  <tbody>\n",
       "    <tr>\n",
       "      <th>0</th>\n",
       "      <td>SuperMins, Витамин D3, жидкость, 10 мл</td>\n",
       "      <td>https://itab.pro/products/supermins-vitamin-d3...</td>\n",
       "    </tr>\n",
       "    <tr>\n",
       "      <th>1</th>\n",
       "      <td>BioExpert, Биоактивный магниевый комплекс (5 ф...</td>\n",
       "      <td>https://itab.pro/products/bioexpert-bioaktivny...</td>\n",
       "    </tr>\n",
       "    <tr>\n",
       "      <th>2</th>\n",
       "      <td>Wolfsport+iTAB, Вкусный B-комплекс (вишня), шо...</td>\n",
       "      <td>https://itab.pro/products/wolfsportitab-vkusny...</td>\n",
       "    </tr>\n",
       "  </tbody>\n",
       "</table>\n",
       "</div>"
      ],
      "text/plain": [
       "                                            bad_name  \\\n",
       "0             SuperMins, Витамин D3, жидкость, 10 мл   \n",
       "1  BioExpert, Биоактивный магниевый комплекс (5 ф...   \n",
       "2  Wolfsport+iTAB, Вкусный B-комплекс (вишня), шо...   \n",
       "\n",
       "                                                link  \n",
       "0  https://itab.pro/products/supermins-vitamin-d3...  \n",
       "1  https://itab.pro/products/bioexpert-bioaktivny...  \n",
       "2  https://itab.pro/products/wolfsportitab-vkusny...  "
      ]
     },
     "execution_count": 15,
     "metadata": {},
     "output_type": "execute_result"
    }
   ],
   "source": [
    "products_df.head(3)"
   ]
  },
  {
   "cell_type": "markdown",
   "id": "de2b8e4f-a177-478f-8741-8a8bda2a0328",
   "metadata": {},
   "source": [
    "Загружаем цены и описание для каждого БАДА"
   ]
  },
  {
   "cell_type": "code",
   "execution_count": 24,
   "id": "5449afe5-5705-4072-8f8e-6b431f0c7777",
   "metadata": {
    "tags": []
   },
   "outputs": [
    {
     "data": {
      "application/vnd.jupyter.widget-view+json": {
       "model_id": "86e60acd94e24216b4340dc899a0a654",
       "version_major": 2,
       "version_minor": 0
      },
      "text/plain": [
       "  0%|          | 0/1680 [00:00<?, ?it/s]"
      ]
     },
     "metadata": {},
     "output_type": "display_data"
    }
   ],
   "source": [
    "full_description_list = []\n",
    "full_discount_price_list = []\n",
    "full_regular_price_list = []\n",
    "\n",
    "if not os.path.isfile(DS_FILE_PATH):\n",
    "    for i in tqdm(range(products_df.shape[0])):\n",
    "        # Получаем описание стандартную цену и цену с учетом скидки или акции по url БАДа\n",
    "        desc, rp, dp = get_desc_by_link(products_df[\"link\"][i])\n",
    "        desc = join_text_from_list(desc)\n",
    "        \n",
    "        full_description_list.append(desc)\n",
    "        full_discount_price_list.append(dp)\n",
    "        full_regular_price_list.append(rp)"
   ]
  },
  {
   "cell_type": "code",
   "execution_count": 25,
   "id": "a10cadbb-f6cc-4cef-b30e-e8cf67645a59",
   "metadata": {
    "tags": []
   },
   "outputs": [
    {
     "data": {
      "text/plain": [
       "(1680, 1680, 1680)"
      ]
     },
     "execution_count": 25,
     "metadata": {},
     "output_type": "execute_result"
    }
   ],
   "source": [
    "len(full_description_list), len(full_discount_price_list), len(full_regular_price_list)"
   ]
  },
  {
   "cell_type": "code",
   "execution_count": 26,
   "id": "408ca4bd-d3d3-4714-86a1-2933fd5da4c6",
   "metadata": {
    "tags": []
   },
   "outputs": [],
   "source": [
    "products_df['Description'] = full_description_list\n",
    "products_df['Regular_Price'] = full_regular_price_list\n",
    "products_df['Discounted_Price'] = full_discount_price_list"
   ]
  },
  {
   "cell_type": "code",
   "execution_count": 27,
   "id": "d27e8efa-7615-4866-86d5-3da46a46f737",
   "metadata": {
    "tags": []
   },
   "outputs": [
    {
     "data": {
      "text/html": [
       "<div>\n",
       "<style scoped>\n",
       "    .dataframe tbody tr th:only-of-type {\n",
       "        vertical-align: middle;\n",
       "    }\n",
       "\n",
       "    .dataframe tbody tr th {\n",
       "        vertical-align: top;\n",
       "    }\n",
       "\n",
       "    .dataframe thead th {\n",
       "        text-align: right;\n",
       "    }\n",
       "</style>\n",
       "<table border=\"1\" class=\"dataframe\">\n",
       "  <thead>\n",
       "    <tr style=\"text-align: right;\">\n",
       "      <th></th>\n",
       "      <th>bad_name</th>\n",
       "      <th>link</th>\n",
       "      <th>Description</th>\n",
       "      <th>Regular_Price</th>\n",
       "      <th>Discounted_Price</th>\n",
       "    </tr>\n",
       "  </thead>\n",
       "  <tbody>\n",
       "    <tr>\n",
       "      <th>0</th>\n",
       "      <td>SuperMins, Витамин D3, жидкость, 10 мл</td>\n",
       "      <td>https://itab.pro/products/supermins-vitamin-d3...</td>\n",
       "      <td>Жидкий витамин D3 (2000 МЕ) от SuperMins - это...</td>\n",
       "      <td>670</td>\n",
       "      <td>463</td>\n",
       "    </tr>\n",
       "    <tr>\n",
       "      <th>1</th>\n",
       "      <td>BioExpert, Биоактивный магниевый комплекс (5 ф...</td>\n",
       "      <td>https://itab.pro/products/bioexpert-bioaktivny...</td>\n",
       "      <td>Биоактивный магниевый комплекс (5 форм) от Bio...</td>\n",
       "      <td>2271</td>\n",
       "      <td>0</td>\n",
       "    </tr>\n",
       "    <tr>\n",
       "      <th>2</th>\n",
       "      <td>Wolfsport+iTAB, Вкусный B-комплекс (вишня), шо...</td>\n",
       "      <td>https://itab.pro/products/wolfsportitab-vkusny...</td>\n",
       "      <td>Смотреть видео\\nВ-комплекс от Wolfsport и iTAB...</td>\n",
       "      <td>3515</td>\n",
       "      <td>0</td>\n",
       "    </tr>\n",
       "  </tbody>\n",
       "</table>\n",
       "</div>"
      ],
      "text/plain": [
       "                                            bad_name  \\\n",
       "0             SuperMins, Витамин D3, жидкость, 10 мл   \n",
       "1  BioExpert, Биоактивный магниевый комплекс (5 ф...   \n",
       "2  Wolfsport+iTAB, Вкусный B-комплекс (вишня), шо...   \n",
       "\n",
       "                                                link  \\\n",
       "0  https://itab.pro/products/supermins-vitamin-d3...   \n",
       "1  https://itab.pro/products/bioexpert-bioaktivny...   \n",
       "2  https://itab.pro/products/wolfsportitab-vkusny...   \n",
       "\n",
       "                                         Description  Regular_Price  \\\n",
       "0  Жидкий витамин D3 (2000 МЕ) от SuperMins - это...            670   \n",
       "1  Биоактивный магниевый комплекс (5 форм) от Bio...           2271   \n",
       "2  Смотреть видео\\nВ-комплекс от Wolfsport и iTAB...           3515   \n",
       "\n",
       "   Discounted_Price  \n",
       "0               463  \n",
       "1                 0  \n",
       "2                 0  "
      ]
     },
     "execution_count": 27,
     "metadata": {},
     "output_type": "execute_result"
    }
   ],
   "source": [
    "products_df.head(3)"
   ]
  },
  {
   "cell_type": "markdown",
   "id": "10e08bb7-e052-4852-90be-dd803f83b138",
   "metadata": {
    "tags": []
   },
   "source": [
    "### Сохраняем датасет в csv файл"
   ]
  },
  {
   "cell_type": "code",
   "execution_count": 28,
   "id": "66796445-0cf2-463f-ae85-45b40103beb3",
   "metadata": {
    "tags": []
   },
   "outputs": [],
   "source": [
    "products_df.to_csv(DS_FILE_PATH, sep=\"|\")"
   ]
  },
  {
   "cell_type": "code",
   "execution_count": null,
   "id": "66a70303-2a31-4843-8b6b-5908803338a1",
   "metadata": {},
   "outputs": [],
   "source": []
  }
 ],
 "metadata": {
  "kernelspec": {
   "display_name": "Python 3 (ipykernel)",
   "language": "python",
   "name": "python3"
  },
  "language_info": {
   "codemirror_mode": {
    "name": "ipython",
    "version": 3
   },
   "file_extension": ".py",
   "mimetype": "text/x-python",
   "name": "python",
   "nbconvert_exporter": "python",
   "pygments_lexer": "ipython3",
   "version": "3.10.13"
  }
 },
 "nbformat": 4,
 "nbformat_minor": 5
}
