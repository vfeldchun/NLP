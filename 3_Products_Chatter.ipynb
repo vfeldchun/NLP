{
 "cells": [
  {
   "cell_type": "markdown",
   "id": "b946073c-fa3d-486b-901f-26d2008bd583",
   "metadata": {},
   "source": [
    "# Загрузка и обучение модели для продуктовой болталки"
   ]
  },
  {
   "cell_type": "markdown",
   "id": "4f2ffb43-7049-40bc-8209-bf4c97f60502",
   "metadata": {},
   "source": [
    "## Загрузим необходимые библиотеки"
   ]
  },
  {
   "cell_type": "code",
   "execution_count": 1,
   "id": "369824d6-d6d9-4440-a3f4-8197f0ef7607",
   "metadata": {
    "tags": []
   },
   "outputs": [],
   "source": [
    "import os\n",
    "import numpy as np\n",
    "import pandas as pd\n",
    "\n",
    "import re\n",
    "import string\n",
    "from pymorphy2 import MorphAnalyzer\n",
    "from stop_words import get_stop_words\n",
    "\n",
    "import annoy\n",
    "\n",
    "from gensim.models import Word2Vec, FastText\n",
    "\n",
    "from sklearn.feature_extraction.text import TfidfVectorizer\n",
    "\n",
    "import joblib\n",
    "import gzip\n",
    "import pickle\n",
    "\n",
    "from tqdm.notebook import tqdm\n",
    "    \n",
    "tqdm.pandas()"
   ]
  },
  {
   "cell_type": "markdown",
   "id": "e0dc0d64-aeac-435b-9a64-0ba997b37bca",
   "metadata": {},
   "source": [
    "## Определим необходимые функции"
   ]
  },
  {
   "cell_type": "code",
   "execution_count": 2,
   "id": "8ffc447f-e31c-4524-8c1a-768b2ea60f5a",
   "metadata": {
    "tags": []
   },
   "outputs": [],
   "source": [
    "# Функция предобработки текста\n",
    "def preprocess_txt(line):\n",
    "    # Удаляем HTML теги\n",
    "    spls = re.sub('<[^<]+?>', ' ', line)\n",
    "    # Удаляем URLs\n",
    "    spls = re.sub(r'http\\S+', ' ', spls)\n",
    "    # Убираем специальные символы: избавляемся от всего, что не является \"словами\"\n",
    "    #print(spls)\n",
    "    spls = re.sub('[^a-zA-Zа-яА-ЯёЁ0-9\\s!?-]', ' ', spls)\n",
    "    # Удаляем лишние пробелы\n",
    "    spls = re.sub('\\s+', ' ', spls)\n",
    "    # Удаляем знаки пунктуации\n",
    "    spls = \"\".join(i for i in line.strip() if i not in exclude).split()\n",
    "    # Приводим слова к их нормальной форме\n",
    "    spls = [morpher.parse(i.lower())[0].normal_form for i in spls]\n",
    "    # Удаляем стоп слова\n",
    "    #spls = [i for i in spls if i not in sw and i != \"\"]\n",
    "    return spls"
   ]
  },
  {
   "cell_type": "code",
   "execution_count": 3,
   "id": "b6fd546d-b41e-4a22-ae9d-dd611d4b61e8",
   "metadata": {},
   "outputs": [],
   "source": [
    "def nan_useless_row(text):\n",
    "    del_list = ['Экспресс-консультация детского нутрициолога по подбору добавок с iTAB', 'Полная консультация интегративного врача, Анна Горбачева',\n",
    "                'Полная консультация детского нутрициолога', 'Полная консультация нутрициолога + 1 месяц сопровождения, Эльмира Измаилова',\n",
    "                'Полная консультация нутрициолога, Светлана Корчажкина']\n",
    "    for item in del_list:\n",
    "        if item in text:\n",
    "            return np.nan\n",
    "    return text"
   ]
  },
  {
   "cell_type": "code",
   "execution_count": 4,
   "id": "7143eac3-6efc-4b79-935e-6f8084446324",
   "metadata": {},
   "outputs": [],
   "source": [
    "# Основная функция преобразования текста в вектор х100\n",
    "def get_embedded_text(txt, idfs, midf):\n",
    "    text = preprocess_txt(txt)\n",
    "    n_ft = 0\n",
    "    vector_ft = np.zeros(100)\n",
    "    for word in text:\n",
    "        if word in modelFT.wv:\n",
    "            vector_ft += modelFT.wv[word] * idfs.get(word, midf)\n",
    "            n_ft += idfs.get(word, midf)\n",
    "    return vector_ft / n_ft"
   ]
  },
  {
   "cell_type": "code",
   "execution_count": 5,
   "id": "cdb95b90-5e2f-43bf-b0a2-26b5e2c3debf",
   "metadata": {},
   "outputs": [],
   "source": [
    "def search_product(request, idfs, midf, ft_index_shop, num_row=5):\n",
    "    vect_ft = get_embedded_text(request, idfs, midf)\n",
    "    ft_index_shop_val = ft_index_shop.get_nns_by_vector(vect_ft, num_row)\n",
    "    for item in ft_index_shop_val:\n",
    "        name, link = index_map_shop[item]\n",
    "        print(name, link)"
   ]
  },
  {
   "cell_type": "markdown",
   "id": "22390943-266f-441b-8d6f-9f6964f0872b",
   "metadata": {},
   "source": [
    "## Загрузим и предобработаем данные продуктов"
   ]
  },
  {
   "cell_type": "code",
   "execution_count": 6,
   "id": "41d6e8e3-305e-4aed-aaeb-2d5899c9a077",
   "metadata": {
    "tags": []
   },
   "outputs": [],
   "source": [
    "# Создадим модель продуктовых данных\n",
    "shop_data = pd.read_csv(\"itab_bad_products.csv\", sep=\"|\")"
   ]
  },
  {
   "cell_type": "code",
   "execution_count": 7,
   "id": "8ced582f-00c1-4597-9315-5e2a23a32fe4",
   "metadata": {
    "tags": []
   },
   "outputs": [
    {
     "data": {
      "text/html": [
       "<div>\n",
       "<style scoped>\n",
       "    .dataframe tbody tr th:only-of-type {\n",
       "        vertical-align: middle;\n",
       "    }\n",
       "\n",
       "    .dataframe tbody tr th {\n",
       "        vertical-align: top;\n",
       "    }\n",
       "\n",
       "    .dataframe thead th {\n",
       "        text-align: right;\n",
       "    }\n",
       "</style>\n",
       "<table border=\"1\" class=\"dataframe\">\n",
       "  <thead>\n",
       "    <tr style=\"text-align: right;\">\n",
       "      <th></th>\n",
       "      <th>Unnamed: 0</th>\n",
       "      <th>bad_name</th>\n",
       "      <th>link</th>\n",
       "      <th>Description</th>\n",
       "      <th>Regular_Price</th>\n",
       "      <th>Discounted_Price</th>\n",
       "    </tr>\n",
       "  </thead>\n",
       "  <tbody>\n",
       "    <tr>\n",
       "      <th>0</th>\n",
       "      <td>0</td>\n",
       "      <td>SuperMins, Витамин D3, жидкость, 10 мл</td>\n",
       "      <td>https://itab.pro/products/supermins-vitamin-d3...</td>\n",
       "      <td>Жидкий витамин D3 (2000 МЕ) от SuperMins - это...</td>\n",
       "      <td>670</td>\n",
       "      <td>463</td>\n",
       "    </tr>\n",
       "    <tr>\n",
       "      <th>1</th>\n",
       "      <td>1</td>\n",
       "      <td>BioExpert, Биоактивный магниевый комплекс (5 ф...</td>\n",
       "      <td>https://itab.pro/products/bioexpert-bioaktivny...</td>\n",
       "      <td>Биоактивный магниевый комплекс (5 форм) от Bio...</td>\n",
       "      <td>2271</td>\n",
       "      <td>0</td>\n",
       "    </tr>\n",
       "    <tr>\n",
       "      <th>2</th>\n",
       "      <td>2</td>\n",
       "      <td>Wolfsport+iTAB, Вкусный B-комплекс (вишня), шо...</td>\n",
       "      <td>https://itab.pro/products/wolfsportitab-vkusny...</td>\n",
       "      <td>Смотреть видео\\nВ-комплекс от Wolfsport и iTAB...</td>\n",
       "      <td>3515</td>\n",
       "      <td>0</td>\n",
       "    </tr>\n",
       "  </tbody>\n",
       "</table>\n",
       "</div>"
      ],
      "text/plain": [
       "   Unnamed: 0                                           bad_name  \\\n",
       "0           0             SuperMins, Витамин D3, жидкость, 10 мл   \n",
       "1           1  BioExpert, Биоактивный магниевый комплекс (5 ф...   \n",
       "2           2  Wolfsport+iTAB, Вкусный B-комплекс (вишня), шо...   \n",
       "\n",
       "                                                link  \\\n",
       "0  https://itab.pro/products/supermins-vitamin-d3...   \n",
       "1  https://itab.pro/products/bioexpert-bioaktivny...   \n",
       "2  https://itab.pro/products/wolfsportitab-vkusny...   \n",
       "\n",
       "                                         Description  Regular_Price  \\\n",
       "0  Жидкий витамин D3 (2000 МЕ) от SuperMins - это...            670   \n",
       "1  Биоактивный магниевый комплекс (5 форм) от Bio...           2271   \n",
       "2  Смотреть видео\\nВ-комплекс от Wolfsport и iTAB...           3515   \n",
       "\n",
       "   Discounted_Price  \n",
       "0               463  \n",
       "1                 0  \n",
       "2                 0  "
      ]
     },
     "execution_count": 7,
     "metadata": {},
     "output_type": "execute_result"
    }
   ],
   "source": [
    "shop_data.head(3)"
   ]
  },
  {
   "cell_type": "code",
   "execution_count": 8,
   "id": "cb0a09a1-5e19-495c-9100-01d44d1ed22d",
   "metadata": {
    "tags": []
   },
   "outputs": [],
   "source": [
    "shop_data.drop(['Unnamed: 0'], axis=1, inplace=True)"
   ]
  },
  {
   "cell_type": "code",
   "execution_count": 9,
   "id": "0b486d83-0956-43a6-a334-9ad35915a1e9",
   "metadata": {},
   "outputs": [],
   "source": [
    "morpher = MorphAnalyzer()\n",
    "sw = set(get_stop_words(\"ru\"))\n",
    "exclude = set(string.punctuation)"
   ]
  },
  {
   "cell_type": "code",
   "execution_count": 10,
   "id": "c716b22c-01d2-47a6-8c7c-f61cd850569b",
   "metadata": {
    "tags": []
   },
   "outputs": [
    {
     "data": {
      "application/vnd.jupyter.widget-view+json": {
       "model_id": "2eef3d33768546a3ad0d0becf0bd3418",
       "version_major": 2,
       "version_minor": 0
      },
      "text/plain": [
       "  0%|          | 0/1680 [00:00<?, ?it/s]"
      ]
     },
     "metadata": {},
     "output_type": "display_data"
    }
   ],
   "source": [
    "shop_data['text'] = shop_data['bad_name'] + \" \" + shop_data[\"Description\"]\n",
    "shop_data['text'] = shop_data['text'].progress_apply(preprocess_txt)"
   ]
  },
  {
   "cell_type": "code",
   "execution_count": 11,
   "id": "0ce6a57c-2f3d-44b4-9fb0-0eaecdb79ee2",
   "metadata": {},
   "outputs": [],
   "source": [
    "shop_data[\"class\"] = 0"
   ]
  },
  {
   "cell_type": "code",
   "execution_count": 12,
   "id": "9a2dc959-5665-4a24-a9f7-a80d88271021",
   "metadata": {},
   "outputs": [
    {
     "data": {
      "text/html": [
       "<div>\n",
       "<style scoped>\n",
       "    .dataframe tbody tr th:only-of-type {\n",
       "        vertical-align: middle;\n",
       "    }\n",
       "\n",
       "    .dataframe tbody tr th {\n",
       "        vertical-align: top;\n",
       "    }\n",
       "\n",
       "    .dataframe thead th {\n",
       "        text-align: right;\n",
       "    }\n",
       "</style>\n",
       "<table border=\"1\" class=\"dataframe\">\n",
       "  <thead>\n",
       "    <tr style=\"text-align: right;\">\n",
       "      <th></th>\n",
       "      <th>bad_name</th>\n",
       "      <th>link</th>\n",
       "      <th>Description</th>\n",
       "      <th>Regular_Price</th>\n",
       "      <th>Discounted_Price</th>\n",
       "      <th>text</th>\n",
       "      <th>class</th>\n",
       "    </tr>\n",
       "  </thead>\n",
       "  <tbody>\n",
       "    <tr>\n",
       "      <th>0</th>\n",
       "      <td>SuperMins, Витамин D3, жидкость, 10 мл</td>\n",
       "      <td>https://itab.pro/products/supermins-vitamin-d3...</td>\n",
       "      <td>Жидкий витамин D3 (2000 МЕ) от SuperMins - это...</td>\n",
       "      <td>670</td>\n",
       "      <td>463</td>\n",
       "      <td>[supermins, витамин, d3, жидкость, 10, мл, жид...</td>\n",
       "      <td>0</td>\n",
       "    </tr>\n",
       "    <tr>\n",
       "      <th>1</th>\n",
       "      <td>BioExpert, Биоактивный магниевый комплекс (5 ф...</td>\n",
       "      <td>https://itab.pro/products/bioexpert-bioaktivny...</td>\n",
       "      <td>Биоактивный магниевый комплекс (5 форм) от Bio...</td>\n",
       "      <td>2271</td>\n",
       "      <td>0</td>\n",
       "      <td>[bioexpert, биоактивный, магниевый, комплекс, ...</td>\n",
       "      <td>0</td>\n",
       "    </tr>\n",
       "    <tr>\n",
       "      <th>2</th>\n",
       "      <td>Wolfsport+iTAB, Вкусный B-комплекс (вишня), шо...</td>\n",
       "      <td>https://itab.pro/products/wolfsportitab-vkusny...</td>\n",
       "      <td>Смотреть видео\\nВ-комплекс от Wolfsport и iTAB...</td>\n",
       "      <td>3515</td>\n",
       "      <td>0</td>\n",
       "      <td>[wolfsportitab, вкусный, bкомплекс, вишня, шот...</td>\n",
       "      <td>0</td>\n",
       "    </tr>\n",
       "    <tr>\n",
       "      <th>3</th>\n",
       "      <td>BioExpert, Растительный мелатонин, жидкость, 3...</td>\n",
       "      <td>https://itab.pro/products/bioexpert-rastitelny...</td>\n",
       "      <td>Смотреть видеообзор.\\nМелатонин от BioExpert -...</td>\n",
       "      <td>1500</td>\n",
       "      <td>1190</td>\n",
       "      <td>[bioexpert, растительный, мелатонина, жидкость...</td>\n",
       "      <td>0</td>\n",
       "    </tr>\n",
       "    <tr>\n",
       "      <th>4</th>\n",
       "      <td>Wolfsport+iTAB, Вкусный коллаген (фейхоа), шот...</td>\n",
       "      <td>https://itab.pro/products/wolfsportitab-vkusny...</td>\n",
       "      <td>Смотреть видео\\nПолюбившийся всем вкусный колл...</td>\n",
       "      <td>3610</td>\n",
       "      <td>0</td>\n",
       "      <td>[wolfsportitab, вкусный, коллаген, фейхоа, шот...</td>\n",
       "      <td>0</td>\n",
       "    </tr>\n",
       "  </tbody>\n",
       "</table>\n",
       "</div>"
      ],
      "text/plain": [
       "                                            bad_name  \\\n",
       "0             SuperMins, Витамин D3, жидкость, 10 мл   \n",
       "1  BioExpert, Биоактивный магниевый комплекс (5 ф...   \n",
       "2  Wolfsport+iTAB, Вкусный B-комплекс (вишня), шо...   \n",
       "3  BioExpert, Растительный мелатонин, жидкость, 3...   \n",
       "4  Wolfsport+iTAB, Вкусный коллаген (фейхоа), шот...   \n",
       "\n",
       "                                                link  \\\n",
       "0  https://itab.pro/products/supermins-vitamin-d3...   \n",
       "1  https://itab.pro/products/bioexpert-bioaktivny...   \n",
       "2  https://itab.pro/products/wolfsportitab-vkusny...   \n",
       "3  https://itab.pro/products/bioexpert-rastitelny...   \n",
       "4  https://itab.pro/products/wolfsportitab-vkusny...   \n",
       "\n",
       "                                         Description  Regular_Price  \\\n",
       "0  Жидкий витамин D3 (2000 МЕ) от SuperMins - это...            670   \n",
       "1  Биоактивный магниевый комплекс (5 форм) от Bio...           2271   \n",
       "2  Смотреть видео\\nВ-комплекс от Wolfsport и iTAB...           3515   \n",
       "3  Смотреть видеообзор.\\nМелатонин от BioExpert -...           1500   \n",
       "4  Смотреть видео\\nПолюбившийся всем вкусный колл...           3610   \n",
       "\n",
       "   Discounted_Price                                               text  class  \n",
       "0               463  [supermins, витамин, d3, жидкость, 10, мл, жид...      0  \n",
       "1                 0  [bioexpert, биоактивный, магниевый, комплекс, ...      0  \n",
       "2                 0  [wolfsportitab, вкусный, bкомплекс, вишня, шот...      0  \n",
       "3              1190  [bioexpert, растительный, мелатонина, жидкость...      0  \n",
       "4                 0  [wolfsportitab, вкусный, коллаген, фейхоа, шот...      0  "
      ]
     },
     "execution_count": 12,
     "metadata": {},
     "output_type": "execute_result"
    }
   ],
   "source": [
    "shop_data.head()"
   ]
  },
  {
   "cell_type": "code",
   "execution_count": 13,
   "id": "38b72589-8f99-4217-a220-4ed9feed03d0",
   "metadata": {},
   "outputs": [
    {
     "data": {
      "application/vnd.jupyter.widget-view+json": {
       "model_id": "235158b394aa41beacc4a73f6924d494",
       "version_major": 2,
       "version_minor": 0
      },
      "text/plain": [
       "  0%|          | 0/1680 [00:00<?, ?it/s]"
      ]
     },
     "metadata": {},
     "output_type": "display_data"
    }
   ],
   "source": [
    "shop_data['bad_name'] = shop_data['bad_name'].progress_apply(nan_useless_row)"
   ]
  },
  {
   "cell_type": "code",
   "execution_count": 14,
   "id": "ef90df92-b42a-48bc-8d62-cd53bcaee201",
   "metadata": {},
   "outputs": [
    {
     "name": "stdout",
     "output_type": "stream",
     "text": [
      "(1680, 7)\n",
      "(1675, 7)\n"
     ]
    }
   ],
   "source": [
    "print(shop_data.shape)\n",
    "shop_data.dropna(axis=0, inplace=True)\n",
    "print(shop_data.shape)"
   ]
  },
  {
   "cell_type": "code",
   "execution_count": 15,
   "id": "055394c0-403f-4bc7-ba59-604ee311113d",
   "metadata": {},
   "outputs": [],
   "source": [
    "shop_data.reset_index(inplace=True, drop=True)"
   ]
  },
  {
   "cell_type": "code",
   "execution_count": 16,
   "id": "6f503e08-5139-41c2-a2e8-55f161b10d4e",
   "metadata": {},
   "outputs": [],
   "source": [
    "shop_data.to_csv('bads_products_data_clean.csv')"
   ]
  },
  {
   "cell_type": "code",
   "execution_count": 17,
   "id": "f9d5eb43-4054-4d9e-b1c4-72278587f65f",
   "metadata": {
    "tags": []
   },
   "outputs": [
    {
     "name": "stdout",
     "output_type": "stream",
     "text": [
      "Максимальное количество токенов в описании продукта: 1384\n",
      "Среднее количество токенов в описании продукта: 235.95164179104478\n",
      "Минимальное количество токенов в описании продукта: 23\n"
     ]
    }
   ],
   "source": [
    "print(\"Максимальное количество токенов в описании продукта: {}\".format(np.max([len(text) for text in shop_data['text']])))\n",
    "print(\"Среднее количество токенов в описании продукта: {}\".format(np.mean([len(text) for text in shop_data['text']])))\n",
    "print(\"Минимальное количество токенов в описании продукта: {}\".format(np.min([len(text) for text in shop_data['text']])))"
   ]
  },
  {
   "cell_type": "markdown",
   "id": "23b26b02-92e1-4ee5-be5a-4a3895c99164",
   "metadata": {},
   "source": [
    "## Обучение модели FastText"
   ]
  },
  {
   "cell_type": "markdown",
   "id": "4d82a986-fad3-4333-b058-295af7530fb0",
   "metadata": {},
   "source": [
    "#### Обучим модель FastText для быстрого поиска по продуктам"
   ]
  },
  {
   "cell_type": "code",
   "execution_count": 21,
   "id": "6f36b4f9-06cd-4421-84ac-d84aa4dcc6ff",
   "metadata": {},
   "outputs": [
    {
     "name": "stdout",
     "output_type": "stream",
     "text": [
      "CPU times: total: 0 ns\n",
      "Wall time: 0 ns\n"
     ]
    }
   ],
   "source": [
    "%%time\n",
    "file_path_from = 'ft_model'\n",
    "if not os.path.isfile(file_path_from):  \n",
    "    sentences = [i for i in tqdm(shop_data['text']) if len(i) > 2]\n",
    "    modelFT = FastText(sentences=sentences, vector_size=100, min_count=2, window=4)\n",
    "    modelFT.train(corpus_iterable=sentences, epochs=30,\n",
    "                  total_examples=modelFT.corpus_count,\n",
    "                  total_words=modelFT.corpus_total_words)"
   ]
  },
  {
   "cell_type": "markdown",
   "id": "e1cc6db1-15a8-4ed6-9522-ad8280a26c30",
   "metadata": {},
   "source": [
    "#### Сохраним обученную модель"
   ]
  },
  {
   "cell_type": "code",
   "execution_count": 20,
   "id": "66507f22-7169-481e-9414-a4595caf850f",
   "metadata": {},
   "outputs": [
    {
     "ename": "NameError",
     "evalue": "name 'modelFT' is not defined",
     "output_type": "error",
     "traceback": [
      "\u001b[1;31m---------------------------------------------------------------------------\u001b[0m",
      "\u001b[1;31mNameError\u001b[0m                                 Traceback (most recent call last)",
      "Cell \u001b[1;32mIn[20], line 1\u001b[0m\n\u001b[1;32m----> 1\u001b[0m \u001b[43mmodelFT\u001b[49m\u001b[38;5;241m.\u001b[39msave(\u001b[38;5;124m\"\u001b[39m\u001b[38;5;124mft_model\u001b[39m\u001b[38;5;124m\"\u001b[39m)\n",
      "\u001b[1;31mNameError\u001b[0m: name 'modelFT' is not defined"
     ]
    }
   ],
   "source": [
    "modelFT.save(\"ft_model\")"
   ]
  },
  {
   "cell_type": "markdown",
   "id": "eda9c651-3120-45d3-afd2-2fbc5589cca3",
   "metadata": {},
   "source": [
    "#### Загрузим обученную модель"
   ]
  },
  {
   "cell_type": "code",
   "execution_count": 22,
   "id": "90e9d688-d888-4c7d-ab93-a84445db9240",
   "metadata": {},
   "outputs": [],
   "source": [
    "modelFT = FastText.load(\"ft_model\")"
   ]
  },
  {
   "cell_type": "markdown",
   "id": "b765e097-2716-4ce4-97f2-95ddc2cda5aa",
   "metadata": {},
   "source": [
    "#### Получим индексы annoy"
   ]
  },
  {
   "cell_type": "code",
   "execution_count": 23,
   "id": "41c68afe-b7fb-46e7-ba0b-2d2ce3171454",
   "metadata": {},
   "outputs": [],
   "source": [
    "ft_index = annoy.AnnoyIndex(100 ,'angular')"
   ]
  },
  {
   "cell_type": "markdown",
   "id": "ce3e253b-b6e8-4f17-a601-9595c9acbc86",
   "metadata": {},
   "source": [
    "#### Получим tfidf векторы продуктовых данных"
   ]
  },
  {
   "cell_type": "code",
   "execution_count": 24,
   "id": "ebf4622a-861a-4c6a-b8a2-fed3b7fea158",
   "metadata": {},
   "outputs": [
    {
     "data": {
      "application/vnd.jupyter.widget-view+json": {
       "model_id": "a66284cccdfe4e6b8f3a32a6604c50d1",
       "version_major": 2,
       "version_minor": 0
      },
      "text/plain": [
       "  0%|          | 0/1675 [00:00<?, ?it/s]"
      ]
     },
     "metadata": {},
     "output_type": "display_data"
    }
   ],
   "source": [
    "products_text = [\" \".join(val) for val in tqdm(shop_data['text'].values)]"
   ]
  },
  {
   "cell_type": "code",
   "execution_count": 25,
   "id": "e9ab67da-5e96-4755-8a2d-1653d4ecf3e3",
   "metadata": {},
   "outputs": [],
   "source": [
    "tfidf_vect = TfidfVectorizer().fit(products_text)"
   ]
  },
  {
   "cell_type": "code",
   "execution_count": 26,
   "id": "7b42f7e8-34bb-4d37-95c2-d518c246a868",
   "metadata": {},
   "outputs": [],
   "source": [
    "idfs = {v[0]: v[1] for v in zip(tfidf_vect.vocabulary_, tfidf_vect.idf_)}"
   ]
  },
  {
   "cell_type": "code",
   "execution_count": 27,
   "id": "b589f422-cfb5-4807-9bb7-1831c43f7884",
   "metadata": {},
   "outputs": [
    {
     "data": {
      "text/plain": [
       "['supermins', 'витамин', 'd3', 'жидкость', '10']"
      ]
     },
     "execution_count": 27,
     "metadata": {},
     "output_type": "execute_result"
    }
   ],
   "source": [
    "list(idfs.keys())[:5]"
   ]
  },
  {
   "cell_type": "markdown",
   "id": "4bfae319-f95e-470b-b897-4fe9c08115d7",
   "metadata": {},
   "source": [
    "#### Сохраним tfidf векторайзер"
   ]
  },
  {
   "cell_type": "code",
   "execution_count": 28,
   "id": "362c6210-68a5-48c6-83c5-e57f0f2c8db9",
   "metadata": {},
   "outputs": [],
   "source": [
    "with open('tfidf.pkl', 'wb') as f:\n",
    "    pickle.dump(tfidf_vect, f)"
   ]
  },
  {
   "cell_type": "markdown",
   "id": "9f3ff650-18fe-4918-806a-058e47401dcd",
   "metadata": {},
   "source": [
    "#### Создаем Индексы для продуктовых данных"
   ]
  },
  {
   "cell_type": "code",
   "execution_count": 25,
   "id": "68500e57-a219-42ef-84a7-3eb49ceec6df",
   "metadata": {},
   "outputs": [
    {
     "data": {
      "application/vnd.jupyter.widget-view+json": {
       "model_id": "bcef8b68c5d54438b24ace4bdf03d69e",
       "version_major": 2,
       "version_minor": 0
      },
      "text/plain": [
       "  0%|          | 0/1675 [00:00<?, ?it/s]"
      ]
     },
     "metadata": {},
     "output_type": "display_data"
    }
   ],
   "source": [
    "file_path_from = 'bads_shop.ann'\n",
    "if not os.path.isfile(file_path_from):  \n",
    "    \n",
    "    \n",
    "    ft_index_shop = annoy.AnnoyIndex(100 ,'angular')\n",
    "\n",
    "    midf = np.mean(tfidf_vect.idf_)\n",
    "\n",
    "    index_map_shop = {}\n",
    "    counter = 0\n",
    "\n",
    "    for i in tqdm(range(len(shop_data))):\n",
    "        n_ft = 0\n",
    "        index_map_shop[i] = (shop_data.loc[i, \"bad_name\"], shop_data.loc[i, \"link\"])\n",
    "        vector_ft = np.zeros(100)\n",
    "        for word in shop_data.loc[i, \"text\"]:\n",
    "            if word in modelFT.wv:\n",
    "                vector_ft += modelFT.wv[word] * idfs.get(word, midf)\n",
    "                n_ft += idfs.get(word, midf)\n",
    "        if n_ft > 0:\n",
    "            vector_ft = vector_ft / n_ft\n",
    "        ft_index_shop.add_item(counter, vector_ft)\n",
    "        counter += 1\n",
    "\n",
    "    ft_index_shop.build(10)\n",
    "    ft_index_shop.save(file_path_from)\n",
    "\n",
    "    file_path_from = 'index_bads_shop.pkl'\n",
    "    if not os.path.isfile(file_path_from):  \n",
    "    \n",
    "        with open(\"index_bads_shop.pkl\", \"wb\") as f:\n",
    "            pickle.dump(index_map_shop, f)"
   ]
  },
  {
   "cell_type": "markdown",
   "id": "8b42133e-7696-46f8-ae11-ee744118e32f",
   "metadata": {},
   "source": [
    "#### Загрузим индексы "
   ]
  },
  {
   "cell_type": "code",
   "execution_count": 26,
   "id": "aa182183-fcdf-4485-a257-a5ec1750078f",
   "metadata": {},
   "outputs": [],
   "source": [
    "midf = np.mean(tfidf_vect.idf_)\n",
    "\n",
    "ft_index_shop = annoy.AnnoyIndex(100, 'angular')\n",
    "ft_index_shop.load('bads_shop.ann') \n",
    "\n",
    "index_map_shop = pd.read_pickle(\"index_bads_shop.pkl\")"
   ]
  },
  {
   "cell_type": "markdown",
   "id": "c2b28b16-cd87-421b-b734-2ad06e954da8",
   "metadata": {},
   "source": [
    "#### Проверим поиск по продуктовому датасету"
   ]
  },
  {
   "cell_type": "code",
   "execution_count": 31,
   "id": "bc6f6fe4-23c9-4089-a9e2-a94388429de0",
   "metadata": {},
   "outputs": [
    {
     "name": "stdout",
     "output_type": "stream",
     "text": [
      "Restartbio, Витамин Д3 (5000 МЕ) + К2 (МК-7), капсулы, 90 шт. https://itab.pro/products/restartbio-vitamin-d3-5000-me-k2-mk-7-kapsuly-90-sht-1832/\n",
      "Avicenna, D Max 5, Витамин Д3 (5000 МЕ), капсулы, 60 шт. https://itab.pro/products/avicenna-d-max-5-vitamin-d3-5000-me-kapsuly-60-sht-1977/\n",
      "IN.OUT, Комплекс для волос и ногтей, таблетки, 90 шт https://itab.pro/products/inout-kompleks-dlya-volos-i-nogtey-tabletki-90-sht-784/\n",
      "ORZAX, Океан «Daily One Energy» (витаминный комплекс), таблетки, 30 шт https://itab.pro/products/orzax-okean-daily-one-energy-vitaminnyy-kompleks-tabletki-30-sht-1378/\n",
      "Алтайские традиции, Концентрат «Щитовидная железа» с экстрактом лапчатки и ламинарии +11 витаминов + 6 минералов, капсулы, 60 шт. https://itab.pro/products/altayskie-traditsii-kontsentrat-schitovidnaya-zheleza-s-ekstraktom-lapchatki-i-laminarii-11-vitaminov-6-mineralov-kapsuly-60-sht-1200/\n"
     ]
    }
   ],
   "source": [
    "input_txt = \"Витамин D\"\n",
    "search_product(input_txt, idfs, midf, ft_index_shop)"
   ]
  },
  {
   "cell_type": "code",
   "execution_count": 38,
   "id": "76072b98-7502-41fa-8bea-a60a21b70471",
   "metadata": {},
   "outputs": [
    {
     "name": "stdout",
     "output_type": "stream",
     "text": [
      "IPH Peptides FAST, Fast Telomers Care Экстрактно-пептидный комплекс, жевательные таблетки, 45 шт. https://itab.pro/products/iph-peptides-fast-fast-telomers-care-ekstraktno-peptidnyy-kompleks-zhevatelnye-tabletki-45-sht-2009/\n",
      "Trace Minerals, Комплекс «Trace Mineral Drops» (для поддержания здоровья организма), жидкость, 15 мл https://itab.pro/products/trace-minerals-kompleks-trace-mineral-drops-dlya-podderzhaniya-zdorovya-organizma-zhidkost-15-ml-1812/\n",
      "Trace Minerals, Комплекс «Trace Mineral Drops» (для поддержания здоровья организма), жидкость, 237 мл https://itab.pro/products/trace-minerals-kompleks-trace-mineral-drops-dlya-podderzhaniya-zdorovya-organizma-zhidkost-237-ml-1813/\n",
      "IPH Peptides FAST, Fast Thyroids Support Экстрактно-пептидный комплекс, жевательные таблетки, 45 шт. https://itab.pro/products/iph-peptides-fast-fast-thyroids-support-ekstraktno-peptidnyy-kompleks-zhevatelnye-tabletki-45-sht-2010/\n",
      "Эльзам, Комплекс «Vita Kids» Immuno (для повышения иммунитета детей), 10х10 мл https://itab.pro/products/elzam-kompleks-vita-kids-immuno-dlya-povysheniya-immuniteta-detey-10h10-ml-1895/\n",
      "Natures Plus, Animal Parade Source of Life, Детский витаминно-минеральный комплекс, (вишня, апельсин, виноград), жевательные таблетки, 90 шт. https://itab.pro/products/natures-plus-animal-parade-source-of-life-detskiy-vitaminno-mineralnyy-kompleks-vishnya-apelsin-vinograd-zhevatelnye-tabletki-90-sht-1835/\n",
      "FINE, Хлорелла, таблетки, 1500 шт. https://itab.pro/products/fine-hlorella-tabletki-1500-sht-2076/\n",
      "Alga SPA, БИОтоник с эфирным маслом лаванды, 100 мл https://itab.pro/products/alga-spa-biotonik-s-efirnym-maslom-lavandy-100-ml-2103/\n",
      "NUTRIHEAL, Комплекс цинк цитрат + цинк пиколинат с витамином С, таблетки, 60 шт. https://itab.pro/products/nutriheal-kompleks-tsink-tsitrat-tsink-pikolinat-s-vitaminom-s-tabletki-60-sht-2119/\n",
      "Alga SPA, Тоник балансирующий для сужения пор на основе живой суспензии микроводоросли Chlorella, 100 мл https://itab.pro/products/alga-spa-tonik-balansiruyuschiy-dlya-suzheniya-por-na-osnove-zhivoy-suspenzii-mikrovodorosli-chlorella-100-ml-2101/\n",
      "Алтайские традиции, Активный масляный концентрат «Суставы», капсулы, 170 шт. https://itab.pro/products/altayskie-traditsii-aktivnyy-maslyanyy-kontsentrat-sustavy-kapsuly-170-sht-1253/\n",
      "Trace Minerals, Комплекс «Kid's Multi» (комплекс витаминов и минералов), жидкость, 237 мл https://itab.pro/products/trace-minerals-kompleks-kids-multi-kompleks-vitaminov-i-mineralov-zhidkost-237-ml-1818/\n",
      "ORGANIC LOGOS, Цинк-Ол, жидкость, 200 мл. https://itab.pro/products/organic-logos-tsink-ol-zhidkost-200-ml-1840/\n",
      "Probiolab, Дренаж комплекс (детокс), жидкость, 250 мл https://itab.pro/products/probiolab-drenazh-kompleks-detoks-zhidkost-250-ml-642/\n",
      "FINE, Гранат, таблетки, 450 шт. https://itab.pro/products/fine-granat-tabletki-450-sht-2087/\n"
     ]
    }
   ],
   "source": [
    "input_txt = \"Биоактивный магниевый комплекс\"\n",
    "search_product(input_txt, idfs, midf, ft_index_shop, num_row=15)"
   ]
  },
  {
   "cell_type": "code",
   "execution_count": null,
   "id": "d141f0ca-438a-4a2d-8e28-ea05c1920591",
   "metadata": {},
   "outputs": [],
   "source": [
    "input_txt = \"Биоактивный магниевый комплекс\"\n",
    "search_product(input_txt, idfs, midf, ft_index_shop, num_row=15)"
   ]
  }
 ],
 "metadata": {
  "kernelspec": {
   "display_name": "Python 3 (ipykernel)",
   "language": "python",
   "name": "python3"
  },
  "language_info": {
   "codemirror_mode": {
    "name": "ipython",
    "version": 3
   },
   "file_extension": ".py",
   "mimetype": "text/x-python",
   "name": "python",
   "nbconvert_exporter": "python",
   "pygments_lexer": "ipython3",
   "version": "3.10.13"
  }
 },
 "nbformat": 4,
 "nbformat_minor": 5
}
