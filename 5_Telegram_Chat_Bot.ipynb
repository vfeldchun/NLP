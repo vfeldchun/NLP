{
 "cells": [
  {
   "cell_type": "markdown",
   "id": "9e2dd918-11bf-4df7-8f7d-126d662716d7",
   "metadata": {},
   "source": [
    "# Chat-Bot включающий в себя обычную болталку и поиск по БАДам российского производства"
   ]
  },
  {
   "cell_type": "markdown",
   "id": "b0cf7607-4c28-4853-a838-d072d2402768",
   "metadata": {},
   "source": [
    "## Загрузим необходимые библиотеки"
   ]
  },
  {
   "cell_type": "code",
   "execution_count": 1,
   "id": "1228b672-967c-42e1-a357-805bb82e3300",
   "metadata": {
    "tags": []
   },
   "outputs": [],
   "source": [
    "import numpy as np\n",
    "import pandas as pd\n",
    "\n",
    "from sklearn.feature_extraction.text import TfidfVectorizer\n",
    "\n",
    "import re\n",
    "import string\n",
    "from pymorphy2 import MorphAnalyzer\n",
    "\n",
    "import pickle\n",
    "\n",
    "import annoy\n",
    "from gensim.models import Word2Vec, FastText\n",
    "\n",
    "import tensorflow as tf\n",
    "\n",
    "import torch\n",
    "from transformers import AutoTokenizer, AutoModel, AutoModelForCausalLM\n",
    "from transformers import TFAutoModelForSequenceClassification\n",
    "\n",
    "from telegram import Update\n",
    "from telegram.ext  import Updater, CommandHandler, MessageHandler, Filters, CallbackContext"
   ]
  },
  {
   "cell_type": "code",
   "execution_count": 2,
   "id": "b4d619e8-a2d9-4e8d-8acb-e07ef1242e60",
   "metadata": {},
   "outputs": [
    {
     "data": {
      "text/plain": [
       "device(type='cuda')"
      ]
     },
     "execution_count": 2,
     "metadata": {},
     "output_type": "execute_result"
    }
   ],
   "source": [
    "device = torch.device(\"cuda\")\n",
    "device"
   ]
  },
  {
   "cell_type": "code",
   "execution_count": 3,
   "id": "75d78c09-610e-4e20-81f3-ca6203f78b00",
   "metadata": {},
   "outputs": [],
   "source": [
    "morpher = MorphAnalyzer()\n",
    "exclude = set(string.punctuation)"
   ]
  },
  {
   "cell_type": "markdown",
   "id": "f77c56bc-1363-4620-9077-6e9a02881e1c",
   "metadata": {},
   "source": [
    "## Определим необходимые функции"
   ]
  },
  {
   "cell_type": "code",
   "execution_count": 4,
   "id": "f3f3c7f2-24a7-43bf-bca3-ee9f2194a20d",
   "metadata": {},
   "outputs": [],
   "source": [
    "# Функция предобработки текста для поиска в продуктах\n",
    "def preprocess_txt_prod(line):\n",
    "    # Удаляем знаки пунктуации\n",
    "    spls = \"\".join(i for i in line.strip() if i not in exclude).split()\n",
    "    # Приводим слова к их нормальной форме\n",
    "    spls = [morpher.parse(i.lower())[0].normal_form for i in spls]\n",
    "    return spls"
   ]
  },
  {
   "cell_type": "code",
   "execution_count": 5,
   "id": "e8880ee9-7f92-49a9-b7c6-4d3f529dc66c",
   "metadata": {},
   "outputs": [],
   "source": [
    "# Функция предобработки текста для обработки вопроса пользователя\n",
    "def preprocess_txt(line):\n",
    "    # Удаляем HTML теги\n",
    "    spls = re.sub('<[^<]+?>', ' ', line)\n",
    "    # Удаляем URLs\n",
    "    spls = re.sub(r'http\\S+', ' ', spls)\n",
    "    # Убираем специальные символы: избавляемся от всего, что не является \"словами\"\n",
    "    #print(spls)\n",
    "    spls = re.sub('[^a-zA-Zа-яА-ЯёЁ0-9\\s!?-]', ' ', spls)\n",
    "    # Удаляем лишние пробелы\n",
    "    spls = re.sub('\\s+', ' ', spls)\n",
    "    return spls"
   ]
  },
  {
   "cell_type": "code",
   "execution_count": 18,
   "id": "815aa75c-f1d3-446d-b3e3-dc38c97a74e9",
   "metadata": {},
   "outputs": [],
   "source": [
    "# Основная функция преобразования текста в вектор х100 для продуктов\n",
    "def get_embedded_text(txt, idfs, midf, model):\n",
    "    tokens = preprocess_txt_prod(txt)\n",
    "    n_ft = 0\n",
    "    vector_ft = np.zeros(100)\n",
    "    for word in tokens:\n",
    "        if word in model.wv:\n",
    "            vector_ft += model.wv[word] * idfs.get(word, midf)\n",
    "            n_ft += idfs.get(word, midf)\n",
    "    return vector_ft / n_ft"
   ]
  },
  {
   "cell_type": "code",
   "execution_count": 7,
   "id": "96a5cbc5-291e-4fcf-ae22-6b75357a5ea2",
   "metadata": {},
   "outputs": [],
   "source": [
    "# Функция поиска и вывода n (по умолчанию 5) релевантгых запросу продуктов\n",
    "def search_product(request, idfs, midf, ft_index_shop, model, num_row=5):\n",
    "    output = []\n",
    "    \n",
    "    vect_ft = get_embedded_text(request, idfs, midf, model)\n",
    "    ft_index_shop_val = ft_index_shop.get_nns_by_vector(vect_ft, num_row)\n",
    "    for item in ft_index_shop_val:\n",
    "        name, link = index_map_shop[item]\n",
    "        output.append([name, link])\n",
    "    return output"
   ]
  },
  {
   "cell_type": "code",
   "execution_count": 8,
   "id": "463ef01c-890d-44a9-866b-96fd996caa2f",
   "metadata": {},
   "outputs": [],
   "source": [
    "# Функция генерации ответов для общей болталки\n",
    "def respond_to_dialog(texts, model, tokenizer):\n",
    "    prefix = '\\nq:'\n",
    "    for i, t in enumerate(texts):\n",
    "        prefix += t\n",
    "        prefix += '\\nq:' if i % 2 == 1 else '\\na:'\n",
    "    #print(prefix)\n",
    "    tokens = tokenizer(prefix, return_tensors='pt')\n",
    "    tokens = {k: v.to(model.device) for k, v in tokens.items()}\n",
    "    end_token_id = tokenizer.encode('\\n')[0]\n",
    "    size = tokens['input_ids'].shape[1]\n",
    "    output = model.generate(\n",
    "        **tokens, \n",
    "        eos_token_id=end_token_id,\n",
    "        do_sample=True, \n",
    "        max_length=size+128, \n",
    "        repetition_penalty=3.2, \n",
    "        temperature=1,\n",
    "        num_beams=3,\n",
    "        length_penalty=0.01,\n",
    "        pad_token_id=tokenizer.eos_token_id\n",
    "    )\n",
    "    decoded = tokenizer.decode(output[0])\n",
    "    result = decoded[len(prefix):]\n",
    "    return result.strip()"
   ]
  },
  {
   "cell_type": "code",
   "execution_count": 24,
   "id": "ad0aec74-5c77-4dcd-91ab-ec7d7d939c82",
   "metadata": {},
   "outputs": [],
   "source": [
    "# Функция запускающая и поддерживающая диалог с пользователем\n",
    "def start_dialog(tokenizer, model, tokenizer2, model2, model3, idfs, midf, ft_index_shop):\n",
    "    seed = input('Начните диалог с ботом любой фразой\\n Для завершения диалога введите: Stop\\n')\n",
    "    history = [seed]\n",
    "    is_continue_dilog = True\n",
    "    \n",
    "    while is_continue_dilog:\n",
    "        input_txt = preprocess_txt(seed)\n",
    "        pred, label = get_prediction(input_txt, tokenizer2, model2)\n",
    "        #print(label)\n",
    "    \n",
    "        # ПРОДУКТЫ\n",
    "        if label == 0:\n",
    "            prod_list = search_product(input_txt, idfs, midf, ft_index_shop, model3)\n",
    "            for item in prod_list:\n",
    "                prod_name, prod_link = item[0], item[1]\n",
    "                print(\"Наименование продукта: {}\\nСсылка на продукт: {}\".format(prod_name, prod_link))\n",
    "            seed = input('\\n')\n",
    "            \n",
    "        # QA\n",
    "        if label == 1:\n",
    "            if seed == 'Stop':\n",
    "                break\n",
    "           \n",
    "            output = respond_to_dialog([seed], model, tokenizer)\n",
    "            seed = input(output + '\\n')\n",
    "      \n",
    "            history.append(output)\n",
    "            history.append(seed)"
   ]
  },
  {
   "cell_type": "code",
   "execution_count": 10,
   "id": "2e2eddbb-8977-4403-89b3-af23c28f60a1",
   "metadata": {},
   "outputs": [],
   "source": [
    "# Функция определения класса болталки: общая или продуктовая\n",
    "def get_prediction(sentence, tokenizer, model):\n",
    "    tokenized_sent = tokenizer(sentence, padding='max_length', truncation=True, return_tensors='tf')\n",
    "    pred = model(tokenized_sent).logits.numpy()\n",
    "    return pred, pred.argmax()"
   ]
  },
  {
   "cell_type": "markdown",
   "id": "ef602539-f8e0-4303-824f-a4a377d27b86",
   "metadata": {},
   "source": [
    "Классификатор интентов"
   ]
  },
  {
   "cell_type": "code",
   "execution_count": 11,
   "id": "16056fc6-6580-4bf8-8de1-55c41ac3f24d",
   "metadata": {},
   "outputs": [
    {
     "name": "stderr",
     "output_type": "stream",
     "text": [
      "Special tokens have been added in the vocabulary, make sure the associated word embeddings are fine-tuned or trained.\n",
      "All model checkpoint layers were used when initializing TFBertForSequenceClassification.\n",
      "\n",
      "All the layers of TFBertForSequenceClassification were initialized from the model checkpoint at classifier_model.\n",
      "If your task is similar to the task the model of the checkpoint was trained on, you can already use TFBertForSequenceClassification for predictions without further training.\n"
     ]
    }
   ],
   "source": [
    "classification_tokenizer = AutoTokenizer.from_pretrained(\"classifier_tk\")\n",
    "classification_model = TFAutoModelForSequenceClassification.from_pretrained(\"classifier_model\")"
   ]
  },
  {
   "cell_type": "markdown",
   "id": "0d359fe5-abbe-4645-803f-599666220875",
   "metadata": {},
   "source": [
    "Модель обычной болталки"
   ]
  },
  {
   "cell_type": "code",
   "execution_count": 12,
   "id": "5352c9ed-d6df-4fcc-996e-70095e9dcda8",
   "metadata": {},
   "outputs": [
    {
     "name": "stderr",
     "output_type": "stream",
     "text": [
      "Special tokens have been added in the vocabulary, make sure the associated word embeddings are fine-tuned or trained.\n"
     ]
    }
   ],
   "source": [
    "common_talker_tokenizer = AutoTokenizer.from_pretrained(\"final_ct_gpt_tk\")\n",
    "common_talker_model = AutoModelForCausalLM.from_pretrained(\"final_ct_gpt_model\").to(device)"
   ]
  },
  {
   "cell_type": "markdown",
   "id": "3fd6306f-764b-4565-b2c4-c113f657a3d5",
   "metadata": {},
   "source": [
    "Модель для продуктовой болталки"
   ]
  },
  {
   "cell_type": "code",
   "execution_count": 13,
   "id": "20f44e6b-e485-450b-add6-63f7c7e2165c",
   "metadata": {},
   "outputs": [],
   "source": [
    "# Загружаем предобученую модель FastText\n",
    "products_model = FastText.load(\"ft_model\")\n",
    "\n",
    "# Загружаем предобученный TFIDF векторайзер \n",
    "with open('tfidf.pkl', 'rb') as f:\n",
    "    tfidf_vect = pickle.load(f)\n",
    "\n",
    "idfs = {v[0]: v[1] for v in zip(tfidf_vect.vocabulary_, tfidf_vect.idf_)}\n",
    "midf = np.mean(tfidf_vect.idf_)\n",
    "\n",
    "# Загружаем продуктовые индексы\n",
    "ft_index_shop = annoy.AnnoyIndex(100, 'angular')\n",
    "ft_index_shop.load('bads_shop.ann') \n",
    "index_map_shop = pd.read_pickle(\"index_bads_shop.pkl\")"
   ]
  },
  {
   "cell_type": "markdown",
   "id": "df3287c8-d9a1-4cee-964e-4538351d4bdf",
   "metadata": {},
   "source": [
    "#### Проверка через внутрений диалог"
   ]
  },
  {
   "cell_type": "code",
   "execution_count": 25,
   "id": "95cdb3d3-950e-4469-9ef7-3884526c79b8",
   "metadata": {},
   "outputs": [
    {
     "name": "stdin",
     "output_type": "stream",
     "text": [
      "Начните диалог с ботом любой фразой\n",
      " Для завершения диалога введите: Stop\n",
      " Привет!\n",
      "привет!!! ты кто??? давай знакомиться!!!\n",
      " Я Влад, А тебя как зовут?\n",
      "аня!! ы ы ы ы ы ы ы ы ы ы ы ы ы ы ы ы ы ы ы ы ы ы ы ы ы ы ы ы ы ы ы ы ы ы ы ы ы ы ы ы ы ы ы ы ы ы ы ы ы ы ы ы ы ы ы ы ы ы ы ы ы ы\n",
      " Что делаеш?\n",
      "делаю все что хочу!! ы ы ы ы ы ы ы ы ы ы ы ы ы ы ы ы ы ы ы ы ы ы ы ы ы ы ы ы ы ы ы ы ы ы ы ы ы ы ы ы ы ы ы ы ы ы ы ы ы ы ы ы ы ы ы ы ы ы ы ы\n",
      " Я сегодня нашел миллион рублей что мне делать?\n",
      "забудь!!! ничего не теряй и живи дальше!!!!!!!!!!!!!!!!!!!!!!!!!!!!!!!!!!!!!!!!!!!!!!!!!!!!!!!!!!!!!!!!!!!!!!!!!!!!!!!!!!!!!!!!!!!!!!!!!!!!!!!!!!!!!!!!!!!\n",
      " Я ищу витамины\n",
      "витамины группы в1 а так же комплексные минеральные добавки для роста волос и кожи лица u-beauty - это натуральные продукты которые помогают организму усваивать все необходимые человеку вещества без вреда для здоровья! u-beauty содержит большое количество аминокислот способствующих росту волос и укреплению иммунной системы кроме того он богат микроэлементами такими как кальций железо фосфор медь цинк железо магний марганец флавоноиды сульфаты меди барий хлорофил глютамин гидроксид кремния аргинин калий железо фосфор ниацин смолы\n",
      " Витамины\n"
     ]
    },
    {
     "name": "stdout",
     "output_type": "stream",
     "text": [
      "Наименование продукта: Эльзам, Кордицепс (биоактивный концентрат), 10х10 мл\n",
      "Ссылка на продукт: https://itab.pro/products/elzam-korditseps-bioaktivnyy-kontsentrat-10h10-ml-1884/\n",
      "Наименование продукта: FINE, Хлорелла, таблетки, 1500 шт.\n",
      "Ссылка на продукт: https://itab.pro/products/fine-hlorella-tabletki-1500-sht-2076/\n",
      "Наименование продукта: Maxler, Витамин D3+K2, мягкие капсулы, 90 шт.\n",
      "Ссылка на продукт: https://itab.pro/products/maxler-vitamin-d3k2-myagkie-kapsuly-90-sht-415/\n",
      "Наименование продукта: Trace Minerals, Ионные витамины D3+K2, жидкость, 59 мл\n",
      "Ссылка на продукт: https://itab.pro/products/trace-minerals-ionnye-vitaminy-d3k2-zhidkost-59-ml-1815/\n",
      "Наименование продукта: FINE, Витамин С + D3, капсулы, 60 шт.\n",
      "Ссылка на продукт: https://itab.pro/products/fine-vitamin-s-d3-kapsuly-60-sht-2090/\n"
     ]
    },
    {
     "name": "stdin",
     "output_type": "stream",
     "text": [
      "\n",
      " витаминный комплекс\n"
     ]
    },
    {
     "name": "stdout",
     "output_type": "stream",
     "text": [
      "Наименование продукта: Trace Minerals, Комплекс «Trace Mineral Drops» (для поддержания здоровья организма), жидкость, 15 мл\n",
      "Ссылка на продукт: https://itab.pro/products/trace-minerals-kompleks-trace-mineral-drops-dlya-podderzhaniya-zdorovya-organizma-zhidkost-15-ml-1812/\n",
      "Наименование продукта: Trace Minerals, Комплекс «Trace Mineral Drops» (для поддержания здоровья организма), жидкость, 237 мл\n",
      "Ссылка на продукт: https://itab.pro/products/trace-minerals-kompleks-trace-mineral-drops-dlya-podderzhaniya-zdorovya-organizma-zhidkost-237-ml-1813/\n",
      "Наименование продукта: Natures Plus, Animal Parade Source of Life, Детский витаминно-минеральный комплекс, (вишня, апельсин, виноград), жевательные таблетки, 90 шт.\n",
      "Ссылка на продукт: https://itab.pro/products/natures-plus-animal-parade-source-of-life-detskiy-vitaminno-mineralnyy-kompleks-vishnya-apelsin-vinograd-zhevatelnye-tabletki-90-sht-1835/\n",
      "Наименование продукта: Trace Minerals, Комплекс «Kid's Multi» (комплекс витаминов и минералов), жидкость, 237 мл\n",
      "Ссылка на продукт: https://itab.pro/products/trace-minerals-kompleks-kids-multi-kompleks-vitaminov-i-mineralov-zhidkost-237-ml-1818/\n",
      "Наименование продукта: Natures Plus, Animal Parade Source of Life, Детский витаминно-минеральный комплекс со вкусом вишни, жевательные таблетки, 90 шт.\n",
      "Ссылка на продукт: https://itab.pro/products/natures-plus-animal-parade-source-of-life-detskiy-vitaminno-mineralnyy-kompleks-so-vkusom-vishni-zhevatelnye-tabletki-90-sht-1834/\n"
     ]
    },
    {
     "name": "stdin",
     "output_type": "stream",
     "text": [
      "\n",
      " Омега-3\n",
      "омега-3 гидроксид натрия гидроксид кальция гидроксид железа гидроксид меди гидроксид алюминия гидроксид магния гидроксид редкоземельных металлов гидроксид кремния гидроксид свинца гидроксид железа гидроксид меди гидроксид железа гидроксид углерода гидроксид меди гидроксид меди гидроксид водорода гидроксид меди гидроксид железа гидроксид азота гидроксид меди гидроксид железа гидроксид железа гидроксид железа гидроксид железа гидроксид железа гидроксид меди гидроксид железа гидроксид железа гид\n",
      " Omega-3\n"
     ]
    },
    {
     "name": "stdout",
     "output_type": "stream",
     "text": [
      "Наименование продукта: VIRIDI LABORATORIUM, Omega-3 Plus, капсулы, 30 шт.\n",
      "Ссылка на продукт: https://itab.pro/products/viridi-laboratorium-omega-3-plus-kapsuly-30-sht-1803/\n",
      "Наименование продукта: VIRIDI LABORATORIUM, Omega-3 Plus, капсулы, 180 шт.\n",
      "Ссылка на продукт: https://itab.pro/products/viridi-laboratorium-omega-3-plus-kapsuly-180-sht-1802/\n",
      "Наименование продукта: Avicenna, D Max 5, Витамин Д3 (5000 МЕ), капсулы, 60 шт.\n",
      "Ссылка на продукт: https://itab.pro/products/avicenna-d-max-5-vitamin-d3-5000-me-kapsuly-60-sht-1977/\n",
      "Наименование продукта: Avicenna, D Max 10, Витамин Д3 (10000 МЕ), капсулы, 60 шт.\n",
      "Ссылка на продукт: https://itab.pro/products/avicenna-d-max-10-vitamin-d3-10000-me-kapsuly-60-sht-1978/\n",
      "Наименование продукта: Avicenna, D Max 2, Витамин Д3 (2000 МЕ), капсулы, 60 шт.\n",
      "Ссылка на продукт: https://itab.pro/products/avicenna-d-max-2-vitamin-d3-2000-me-kapsuly-60-sht-1976/\n"
     ]
    },
    {
     "name": "stdin",
     "output_type": "stream",
     "text": [
      "\n",
      " Stop\n"
     ]
    }
   ],
   "source": [
    "start_dialog(common_talker_tokenizer, common_talker_model, classification_tokenizer, classification_model, products_model, idfs, midf, ft_index_shop)"
   ]
  },
  {
   "cell_type": "markdown",
   "id": "8327f874-61b5-4a9b-b0bc-45317e02166f",
   "metadata": {},
   "source": [
    "## Создание Chat-Bot"
   ]
  },
  {
   "cell_type": "code",
   "execution_count": 26,
   "id": "abfd45ab-055d-4c62-af25-e8b67efc9619",
   "metadata": {},
   "outputs": [],
   "source": [
    "# заменить на свой токен\n",
    "updater = Updater(\"6345152081:AAE0bNMtN_AigXTorBgqApF4hoqgmmP1RAg\", use_context=True) # Токен API к Telegram\n",
    "dispatcher = updater.dispatcher"
   ]
  },
  {
   "cell_type": "code",
   "execution_count": null,
   "id": "d3aa9a0e-aabc-4700-81ea-7f709d0e6e51",
   "metadata": {},
   "outputs": [
    {
     "name": "stderr",
     "output_type": "stream",
     "text": [
      "Exiting immediately!\n"
     ]
    }
   ],
   "source": [
    "def startCommand(update, context):\n",
    "    context.bot.send_message(chat_id=update.message.chat_id, text='Привет!\\nЯ чат-бот поиска биоактивных добавок российского производства!\\nЯ так же люблю и просто поболтать!\\nЧем могу помочь?')\n",
    "\n",
    "def textMessage(update, context):\n",
    "    \n",
    "    input_txt = preprocess_txt(update.message.text)\n",
    "    pred, label = get_prediction(input_txt, classification_tokenizer, classification_model)\n",
    "    \n",
    "    # ПРОДУКТЫ\n",
    "    if label == 0:\n",
    "        prod_list = search_product(input_txt, idfs, midf, ft_index_shop, products_model)\n",
    "        for item in prod_list:\n",
    "            prod_name, prod_link = item[0], item[1]\n",
    "            context.bot.send_message(chat_id=update.message.chat_id, text=\"Наименование продукта: {}\\nСсылка на продукт: {}\".format(prod_name, prod_link))\n",
    "        return\n",
    "    \n",
    "    # QA\n",
    "    if label == 1:\n",
    "        answer = respond_to_dialog([update.message.text], common_talker_model, common_talker_tokenizer)\n",
    "        context.bot.send_message(chat_id=update.message.chat_id, text=answer)\n",
    "        return\n",
    "    \n",
    "\n",
    "        \n",
    "start_command_handler = CommandHandler('start', startCommand)\n",
    "text_message_handler = MessageHandler(Filters.text, textMessage)\n",
    "dispatcher.add_handler(start_command_handler)\n",
    "dispatcher.add_handler(text_message_handler)\n",
    "updater.start_polling(clean=True)\n",
    "updater.idle()"
   ]
  },
  {
   "cell_type": "code",
   "execution_count": null,
   "id": "b11797e3-51bc-474b-9374-d1541ef52075",
   "metadata": {},
   "outputs": [],
   "source": []
  }
 ],
 "metadata": {
  "kernelspec": {
   "display_name": "Python 3 (ipykernel)",
   "language": "python",
   "name": "python3"
  },
  "language_info": {
   "codemirror_mode": {
    "name": "ipython",
    "version": 3
   },
   "file_extension": ".py",
   "mimetype": "text/x-python",
   "name": "python",
   "nbconvert_exporter": "python",
   "pygments_lexer": "ipython3",
   "version": "3.10.13"
  }
 },
 "nbformat": 4,
 "nbformat_minor": 5
}
