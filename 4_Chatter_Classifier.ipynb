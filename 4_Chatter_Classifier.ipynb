{
 "cells": [
  {
   "cell_type": "markdown",
   "id": "8bea15cc-d78b-4fa7-bdff-29dfbdfe669c",
   "metadata": {},
   "source": [
    "# Класификатор используемой модели: Болталка или Продуктовый чат"
   ]
  },
  {
   "cell_type": "markdown",
   "id": "da14d6c1-2ccc-4308-9708-183634368f65",
   "metadata": {},
   "source": [
    "## Загрузим необходимые библиотеки"
   ]
  },
  {
   "cell_type": "code",
   "execution_count": 1,
   "id": "95b0f9b0-d1a2-4f7d-9be3-1ec4564e08a3",
   "metadata": {
    "tags": []
   },
   "outputs": [],
   "source": [
    "import os\n",
    "import random\n",
    "import numpy as np\n",
    "import pandas as pd\n",
    "\n",
    "import re\n",
    "from corus import load_rudrec\n",
    "from collections import Counter, defaultdict\n",
    "\n",
    "from sklearn.model_selection import train_test_split\n",
    "from sklearn.metrics import confusion_matrix, f1_score, precision_score, recall_score, classification_report\n",
    "\n",
    "import tensorflow as tf\n",
    "from tensorflow.keras.callbacks import Callback\n",
    "\n",
    "from transformers import AutoTokenizer, TFAutoModelForSequenceClassification\n",
    "\n",
    "from tqdm.notebook import tqdm\n",
    "tqdm.pandas()"
   ]
  },
  {
   "cell_type": "markdown",
   "id": "2daebaa8-029d-47c1-ab60-3709894ccae7",
   "metadata": {},
   "source": [
    "## Определим необходимые функции"
   ]
  },
  {
   "cell_type": "code",
   "execution_count": 2,
   "id": "155ef242-bc6d-497f-9799-48bfdcdad0e0",
   "metadata": {},
   "outputs": [],
   "source": [
    "# https://habr.com/ru/articles/677512/"
   ]
  },
  {
   "cell_type": "code",
   "execution_count": 3,
   "id": "df81e0fc-8e25-4447-b391-a55786b4f97c",
   "metadata": {},
   "outputs": [],
   "source": [
    "def tokenize_sentences(text_corp): # Функцию разбиения текстов корпуса на токены с разбивкой по предложениям\n",
    "    token_corp = []\n",
    "    for text in text_corp:\n",
    "        text = re.sub(r'\\s+', ' ', text, flags=re.M)\n",
    "        for sent in re.split(r'(?<=[.!?…])\\s+', text):\n",
    "            sent = sent.replace('\\n',' ')\n",
    "            for word in sent.split():\n",
    "                token = re.search(r'[а-яёА-ЯЁa-zA-Z]+', word, re.I)\n",
    "                if token is None:\n",
    "                    continue\n",
    "                token_corp.append(token.group().lower())\n",
    "            token_corp.append('EOS') # В конце каждого предложения добавляем фиктивный токен\n",
    "    return token_corp"
   ]
  },
  {
   "cell_type": "code",
   "execution_count": 4,
   "id": "1b2cf30f-085a-4fad-ada1-5fbaafc503d5",
   "metadata": {},
   "outputs": [],
   "source": [
    "# Функция возвращает словарь с группированными биграммами: ключи – отдельные токены, \n",
    "# в значение – список слов которые следуют за ними в корпусе с собственной частотой \n",
    "def get_bigramms(token_list):\n",
    "    bigramm_corp = []\n",
    "    for i in range(len(token_list)-1):\n",
    "        bigramm = token_list[i] + ' ' + token_list[i+1]\n",
    "        bigramm_corp.append(bigramm) # Получим список биграмм\n",
    "    \n",
    "    unique_token_count = len(set(bigramm_corp)) # кол-во уникальных биграмм\n",
    "    bigramm_proba = {} # Создаю словарик для результата: Ключ - биграмма. Значение - вероятность\n",
    "     \n",
    "    count_bigramm = Counter(bigramm_corp) # Создаю словарь для хранения частот биграмм\n",
    "    count_token = Counter(token_list) # Создаю словарь для хранения частот токенов        \n",
    "        \n",
    "    # Создаю словарь с группированными биграммами: ключи – отдельные токены, \n",
    "    # в значение – список слов которые следуют за ними в корпусе \n",
    "    # с собственной частотой (  { 'отель': [('отличным', 4.116e-06), ('вобщем', 2.058e-06), …)\n",
    "    grouped_bigramms = defaultdict(list)\n",
    "    for bigramm in set(bigramm_corp):\n",
    "        first_word, second_word = bigramm.split()\n",
    "        proba = (count_bigramm[bigramm] + 1) / (count_token[first_word] + unique_token_count) # Формула Лапласа\n",
    "        grouped_bigramms[first_word].append((second_word, proba))\n",
    "    return grouped_bigramms"
   ]
  },
  {
   "cell_type": "code",
   "execution_count": 5,
   "id": "bc3417cd-41c1-4b51-b908-7cbe1f835f85",
   "metadata": {},
   "outputs": [],
   "source": [
    "# Функция генерации текста\n",
    "def generate_texts(token_label, grouped_bigramm, label, count_text, count_sent, count_word):\n",
    "\n",
    "    # Создаём словарь для подсчёта биграмм \"исключений\"\n",
    "    exceptions_bigramm = defaultdict(int)\n",
    "    # Создаём список уникальных токенов для старта предложения\n",
    "    unique_token = list(set(token_label))\n",
    "\n",
    "    texts = []\n",
    "    for it_text in tqdm(range(count_text)):  # Цикл с диапазоном кол-ва текстов\n",
    "        text = ''\n",
    "        unique_word = set()\n",
    "\n",
    "        # Цикл с диапазоном кол-ва предложений в тексте\n",
    "        for it_sent in range(count_sent):\n",
    "            len_sent = count_word\n",
    "            # Генерим случайное слово для начала предложения для обеспечения стохастического процесса генерации предложения\n",
    "            start_word = random.choice(unique_token)\n",
    "            # Записываем в строку с финальным предложением первое стартовое слово\n",
    "            final_sent = start_word\n",
    "            # Множество уникальных слов, которые уже сгенерились в предложение (чтобы геенерация не зацикливалась)\n",
    "            unique_word.add(start_word)\n",
    "\n",
    "            for step in range(count_word):\n",
    "                next_word = None  # Создаём переменную для нового слова\n",
    "                frequency = 0  # Переменная-счётчик для частоты каждого нового слова\n",
    "\n",
    "                # Проходим циклом по словарю с ключом биграммы и значением её частоты\n",
    "                for second_word, freq in grouped_bigramm[start_word]:\n",
    "                    bigramm = start_word + ' ' + second_word\n",
    "                    # Устанавливаем значение максимального повторения слова в одном тексте\n",
    "                    if exceptions_bigramm[bigramm] > 3:\n",
    "                        continue\n",
    "                    if freq > frequency and second_word not in unique_word and second_word != 'EOS':\n",
    "                        next_word = second_word\n",
    "                        frequency = freq  # Если второе слово проходит условие запоминаем его\n",
    "                if next_word is None:  # Если подходящего по условиям слова не найдено, перезаписываем стартовое слово и начинаем поиск заново\n",
    "                    start_word = random.choice(unique_token)\n",
    "                    final_sent += ', ' + start_word\n",
    "                    unique_word.add(start_word)\n",
    "                else:\n",
    "                    # Если после цикла нашли подходящее слова (которое запомнили в цикле) - записываем его в предложение\n",
    "                    exceptions_bigramm[start_word + ' ' + next_word] += 1\n",
    "                    start_word = next_word\n",
    "                    final_sent += ' ' + next_word\n",
    "                    unique_word.add(start_word)\n",
    "            final_sent += '. '\n",
    "            text += final_sent\n",
    "        texts.append(text)\n",
    "\n",
    "    generation_text_df = pd.DataFrame(texts, columns=['text'])  # Формируем фрейм из списка\n",
    "    generation_text_df['class'] = label\n",
    "    return generation_text_df[['text', 'class']]"
   ]
  },
  {
   "cell_type": "code",
   "execution_count": 6,
   "id": "f8a72070-c722-4896-9d89-963beb3eeecb",
   "metadata": {},
   "outputs": [],
   "source": [
    "class My_Metrics(Callback):\n",
    "    def on_test_end(self, epoch, logs=None):\n",
    "        valid_prediction = model.predict(valid_dataset).logits.argmax(axis=1)\n",
    "        print('\\n', classification_report(y_valid.astype('int32'), valid_prediction))"
   ]
  },
  {
   "cell_type": "code",
   "execution_count": 7,
   "id": "8da8b32f-6a62-40ad-a57a-16e01eb4e5f9",
   "metadata": {},
   "outputs": [],
   "source": [
    "def get_prediction(sentence, tokenizer, model):\n",
    "    tokenized_sent = tokenizer(sentence, padding='max_length', truncation=True, return_tensors='tf')\n",
    "    pred = model(tokenized_sent).logits.numpy()\n",
    "    return pred, pred.argmax()"
   ]
  },
  {
   "cell_type": "markdown",
   "id": "4343f7ed-910a-4264-a8df-e030ea042fe0",
   "metadata": {},
   "source": [
    "## Загрузка двнных общей и продуктовой болталки"
   ]
  },
  {
   "cell_type": "markdown",
   "id": "5ce2710b-14b4-4d27-b778-6ac03608786d",
   "metadata": {},
   "source": [
    "#### Загрузка данных общей болталки"
   ]
  },
  {
   "cell_type": "code",
   "execution_count": 8,
   "id": "e2c42f67-790d-41a5-b7a9-294f794da99c",
   "metadata": {},
   "outputs": [],
   "source": [
    "cc_data = pd.read_csv('common_talker_data_clean.csv')"
   ]
  },
  {
   "cell_type": "code",
   "execution_count": 9,
   "id": "54ee9a4c-8d68-4a19-86b7-b0ca36621aeb",
   "metadata": {},
   "outputs": [
    {
     "data": {
      "text/plain": [
       "(10000, 3)"
      ]
     },
     "execution_count": 9,
     "metadata": {},
     "output_type": "execute_result"
    }
   ],
   "source": [
    "cc_data.drop(['Unnamed: 0'], axis=1, inplace=True)\n",
    "cc_data.shape"
   ]
  },
  {
   "cell_type": "code",
   "execution_count": 10,
   "id": "759fa66d-bf11-4e47-8fcd-a08c89449423",
   "metadata": {},
   "outputs": [
    {
     "data": {
      "text/html": [
       "<div>\n",
       "<style scoped>\n",
       "    .dataframe tbody tr th:only-of-type {\n",
       "        vertical-align: middle;\n",
       "    }\n",
       "\n",
       "    .dataframe tbody tr th {\n",
       "        vertical-align: top;\n",
       "    }\n",
       "\n",
       "    .dataframe thead th {\n",
       "        text-align: right;\n",
       "    }\n",
       "</style>\n",
       "<table border=\"1\" class=\"dataframe\">\n",
       "  <thead>\n",
       "    <tr style=\"text-align: right;\">\n",
       "      <th></th>\n",
       "      <th>question</th>\n",
       "      <th>answer</th>\n",
       "      <th>class</th>\n",
       "    </tr>\n",
       "  </thead>\n",
       "  <tbody>\n",
       "    <tr>\n",
       "      <th>0</th>\n",
       "      <td>вопрос о тдв давно и хорошо отдыхаем лично вам...</td>\n",
       "      <td>хомячка</td>\n",
       "      <td>1</td>\n",
       "    </tr>\n",
       "    <tr>\n",
       "      <th>1</th>\n",
       "      <td>как парни относятся к цветным линзам? если у д...</td>\n",
       "      <td>меня вобще прикалывает эта тема</td>\n",
       "      <td>1</td>\n",
       "    </tr>\n",
       "    <tr>\n",
       "      <th>2</th>\n",
       "      <td>что делать сегодня нашёл 2 миллиона рублей?</td>\n",
       "      <td>если это счастье действительно на вас свалилос...</td>\n",
       "      <td>1</td>\n",
       "    </tr>\n",
       "    <tr>\n",
       "      <th>3</th>\n",
       "      <td>эбу в двенашке называется итэлма что за эбу?</td>\n",
       "      <td>эбу электронный блок управления двигателем авт...</td>\n",
       "      <td>1</td>\n",
       "    </tr>\n",
       "  </tbody>\n",
       "</table>\n",
       "</div>"
      ],
      "text/plain": [
       "                                            question  \\\n",
       "0  вопрос о тдв давно и хорошо отдыхаем лично вам...   \n",
       "1  как парни относятся к цветным линзам? если у д...   \n",
       "2       что делать сегодня нашёл 2 миллиона рублей?    \n",
       "3      эбу в двенашке называется итэлма что за эбу?    \n",
       "\n",
       "                                              answer  class  \n",
       "0                                           хомячка       1  \n",
       "1                   меня вобще прикалывает эта тема       1  \n",
       "2  если это счастье действительно на вас свалилос...      1  \n",
       "3  эбу электронный блок управления двигателем авт...      1  "
      ]
     },
     "execution_count": 10,
     "metadata": {},
     "output_type": "execute_result"
    }
   ],
   "source": [
    "cc_data.head(4)"
   ]
  },
  {
   "cell_type": "code",
   "execution_count": 11,
   "id": "a3a45e31-0ff9-47f3-a4ec-54a91bc7e385",
   "metadata": {},
   "outputs": [],
   "source": [
    "cc_data['text'] = cc_data['question'] + \" \" + cc_data['answer']"
   ]
  },
  {
   "cell_type": "code",
   "execution_count": 12,
   "id": "3bcdd5ca-03dc-4c7f-b2d2-a142199056d9",
   "metadata": {},
   "outputs": [],
   "source": [
    "cc_data.drop(columns=['question', 'answer'], axis=1, inplace=True)"
   ]
  },
  {
   "cell_type": "code",
   "execution_count": 13,
   "id": "315e5cc6-238b-41ee-b000-d707dbb25d06",
   "metadata": {},
   "outputs": [],
   "source": [
    "cc_data = cc_data[['text', 'class']]"
   ]
  },
  {
   "cell_type": "code",
   "execution_count": 14,
   "id": "e502da79-7dfe-4575-9c5c-fbf985a59a99",
   "metadata": {},
   "outputs": [
    {
     "data": {
      "text/html": [
       "<div>\n",
       "<style scoped>\n",
       "    .dataframe tbody tr th:only-of-type {\n",
       "        vertical-align: middle;\n",
       "    }\n",
       "\n",
       "    .dataframe tbody tr th {\n",
       "        vertical-align: top;\n",
       "    }\n",
       "\n",
       "    .dataframe thead th {\n",
       "        text-align: right;\n",
       "    }\n",
       "</style>\n",
       "<table border=\"1\" class=\"dataframe\">\n",
       "  <thead>\n",
       "    <tr style=\"text-align: right;\">\n",
       "      <th></th>\n",
       "      <th>text</th>\n",
       "      <th>class</th>\n",
       "    </tr>\n",
       "  </thead>\n",
       "  <tbody>\n",
       "    <tr>\n",
       "      <th>0</th>\n",
       "      <td>вопрос о тдв давно и хорошо отдыхаем лично вам...</td>\n",
       "      <td>1</td>\n",
       "    </tr>\n",
       "    <tr>\n",
       "      <th>1</th>\n",
       "      <td>как парни относятся к цветным линзам? если у д...</td>\n",
       "      <td>1</td>\n",
       "    </tr>\n",
       "    <tr>\n",
       "      <th>2</th>\n",
       "      <td>что делать сегодня нашёл 2 миллиона рублей?  е...</td>\n",
       "      <td>1</td>\n",
       "    </tr>\n",
       "    <tr>\n",
       "      <th>3</th>\n",
       "      <td>эбу в двенашке называется итэлма что за эбу?  ...</td>\n",
       "      <td>1</td>\n",
       "    </tr>\n",
       "  </tbody>\n",
       "</table>\n",
       "</div>"
      ],
      "text/plain": [
       "                                                text  class\n",
       "0  вопрос о тдв давно и хорошо отдыхаем лично вам...      1\n",
       "1  как парни относятся к цветным линзам? если у д...      1\n",
       "2  что делать сегодня нашёл 2 миллиона рублей?  е...      1\n",
       "3  эбу в двенашке называется итэлма что за эбу?  ...      1"
      ]
     },
     "execution_count": 14,
     "metadata": {},
     "output_type": "execute_result"
    }
   ],
   "source": [
    "cc_data.head(4)"
   ]
  },
  {
   "cell_type": "markdown",
   "id": "0fe2611a-709a-446c-8e1d-bfd7b4cebcff",
   "metadata": {},
   "source": [
    "Берем обьединенные вопросы и ответы и клас определяем как 1"
   ]
  },
  {
   "cell_type": "markdown",
   "id": "2f3fdf17-ce77-464c-a928-67a123ce2704",
   "metadata": {},
   "source": [
    "#### Загрузка данных продуктовой болталки"
   ]
  },
  {
   "cell_type": "code",
   "execution_count": 15,
   "id": "f05fb4e3-5541-43de-badb-1a327722ae15",
   "metadata": {},
   "outputs": [],
   "source": [
    "pc_data = pd.read_csv('bads_products_data_clean.csv')"
   ]
  },
  {
   "cell_type": "code",
   "execution_count": 16,
   "id": "641edc85-b4f7-4a05-8596-c81f26da6ab9",
   "metadata": {},
   "outputs": [
    {
     "data": {
      "text/plain": [
       "(1675, 7)"
      ]
     },
     "execution_count": 16,
     "metadata": {},
     "output_type": "execute_result"
    }
   ],
   "source": [
    "pc_data.drop(['Unnamed: 0'], axis=1, inplace=True)\n",
    "pc_data.shape"
   ]
  },
  {
   "cell_type": "code",
   "execution_count": 17,
   "id": "692ac7b6-2bf6-45f7-ae44-c868e7dc1839",
   "metadata": {},
   "outputs": [
    {
     "data": {
      "text/html": [
       "<div>\n",
       "<style scoped>\n",
       "    .dataframe tbody tr th:only-of-type {\n",
       "        vertical-align: middle;\n",
       "    }\n",
       "\n",
       "    .dataframe tbody tr th {\n",
       "        vertical-align: top;\n",
       "    }\n",
       "\n",
       "    .dataframe thead th {\n",
       "        text-align: right;\n",
       "    }\n",
       "</style>\n",
       "<table border=\"1\" class=\"dataframe\">\n",
       "  <thead>\n",
       "    <tr style=\"text-align: right;\">\n",
       "      <th></th>\n",
       "      <th>bad_name</th>\n",
       "      <th>link</th>\n",
       "      <th>Description</th>\n",
       "      <th>Regular_Price</th>\n",
       "      <th>Discounted_Price</th>\n",
       "      <th>text</th>\n",
       "      <th>class</th>\n",
       "    </tr>\n",
       "  </thead>\n",
       "  <tbody>\n",
       "    <tr>\n",
       "      <th>0</th>\n",
       "      <td>SuperMins, Витамин D3, жидкость, 10 мл</td>\n",
       "      <td>https://itab.pro/products/supermins-vitamin-d3...</td>\n",
       "      <td>Жидкий витамин D3 (2000 МЕ) от SuperMins - это...</td>\n",
       "      <td>670</td>\n",
       "      <td>463</td>\n",
       "      <td>['supermins', 'витамин', 'd3', 'жидкость', '10...</td>\n",
       "      <td>0</td>\n",
       "    </tr>\n",
       "    <tr>\n",
       "      <th>1</th>\n",
       "      <td>BioExpert, Биоактивный магниевый комплекс (5 ф...</td>\n",
       "      <td>https://itab.pro/products/bioexpert-bioaktivny...</td>\n",
       "      <td>Биоактивный магниевый комплекс (5 форм) от Bio...</td>\n",
       "      <td>2271</td>\n",
       "      <td>0</td>\n",
       "      <td>['bioexpert', 'биоактивный', 'магниевый', 'ком...</td>\n",
       "      <td>0</td>\n",
       "    </tr>\n",
       "    <tr>\n",
       "      <th>2</th>\n",
       "      <td>Wolfsport+iTAB, Вкусный B-комплекс (вишня), шо...</td>\n",
       "      <td>https://itab.pro/products/wolfsportitab-vkusny...</td>\n",
       "      <td>Смотреть видео\\nВ-комплекс от Wolfsport и iTAB...</td>\n",
       "      <td>3515</td>\n",
       "      <td>0</td>\n",
       "      <td>['wolfsportitab', 'вкусный', 'bкомплекс', 'виш...</td>\n",
       "      <td>0</td>\n",
       "    </tr>\n",
       "    <tr>\n",
       "      <th>3</th>\n",
       "      <td>BioExpert, Растительный мелатонин, жидкость, 3...</td>\n",
       "      <td>https://itab.pro/products/bioexpert-rastitelny...</td>\n",
       "      <td>Смотреть видеообзор.\\nМелатонин от BioExpert -...</td>\n",
       "      <td>1500</td>\n",
       "      <td>1190</td>\n",
       "      <td>['bioexpert', 'растительный', 'мелатонина', 'ж...</td>\n",
       "      <td>0</td>\n",
       "    </tr>\n",
       "  </tbody>\n",
       "</table>\n",
       "</div>"
      ],
      "text/plain": [
       "                                            bad_name  \\\n",
       "0             SuperMins, Витамин D3, жидкость, 10 мл   \n",
       "1  BioExpert, Биоактивный магниевый комплекс (5 ф...   \n",
       "2  Wolfsport+iTAB, Вкусный B-комплекс (вишня), шо...   \n",
       "3  BioExpert, Растительный мелатонин, жидкость, 3...   \n",
       "\n",
       "                                                link  \\\n",
       "0  https://itab.pro/products/supermins-vitamin-d3...   \n",
       "1  https://itab.pro/products/bioexpert-bioaktivny...   \n",
       "2  https://itab.pro/products/wolfsportitab-vkusny...   \n",
       "3  https://itab.pro/products/bioexpert-rastitelny...   \n",
       "\n",
       "                                         Description  Regular_Price  \\\n",
       "0  Жидкий витамин D3 (2000 МЕ) от SuperMins - это...            670   \n",
       "1  Биоактивный магниевый комплекс (5 форм) от Bio...           2271   \n",
       "2  Смотреть видео\\nВ-комплекс от Wolfsport и iTAB...           3515   \n",
       "3  Смотреть видеообзор.\\nМелатонин от BioExpert -...           1500   \n",
       "\n",
       "   Discounted_Price                                               text  class  \n",
       "0               463  ['supermins', 'витамин', 'd3', 'жидкость', '10...      0  \n",
       "1                 0  ['bioexpert', 'биоактивный', 'магниевый', 'ком...      0  \n",
       "2                 0  ['wolfsportitab', 'вкусный', 'bкомплекс', 'виш...      0  \n",
       "3              1190  ['bioexpert', 'растительный', 'мелатонина', 'ж...      0  "
      ]
     },
     "execution_count": 17,
     "metadata": {},
     "output_type": "execute_result"
    }
   ],
   "source": [
    "pc_data.head(4)"
   ]
  },
  {
   "cell_type": "markdown",
   "id": "ec19d85f-a5a3-45ef-8194-b8310002ac19",
   "metadata": {},
   "source": [
    "Перезаписываем текст без токенизации"
   ]
  },
  {
   "cell_type": "code",
   "execution_count": 18,
   "id": "3cc2b737-26db-468f-8869-be6802604571",
   "metadata": {},
   "outputs": [],
   "source": [
    "pc_data['text'] = pc_data['bad_name'] + \" \" + pc_data['Description']"
   ]
  },
  {
   "cell_type": "markdown",
   "id": "e477b0e9-2895-4217-bb1f-cff5bba2838e",
   "metadata": {},
   "source": [
    "И оставляем только text и class"
   ]
  },
  {
   "cell_type": "code",
   "execution_count": 19,
   "id": "3b9521ef-9daf-4644-8a2c-6e23e2ca498e",
   "metadata": {},
   "outputs": [],
   "source": [
    "pc_data.drop(columns=['bad_name', 'link', 'Description', 'Regular_Price', 'Discounted_Price'], axis=1, inplace=True)"
   ]
  },
  {
   "cell_type": "code",
   "execution_count": 20,
   "id": "a9cba712-8b41-4d1d-a1ff-b0bdd4b96207",
   "metadata": {},
   "outputs": [
    {
     "data": {
      "text/html": [
       "<div>\n",
       "<style scoped>\n",
       "    .dataframe tbody tr th:only-of-type {\n",
       "        vertical-align: middle;\n",
       "    }\n",
       "\n",
       "    .dataframe tbody tr th {\n",
       "        vertical-align: top;\n",
       "    }\n",
       "\n",
       "    .dataframe thead th {\n",
       "        text-align: right;\n",
       "    }\n",
       "</style>\n",
       "<table border=\"1\" class=\"dataframe\">\n",
       "  <thead>\n",
       "    <tr style=\"text-align: right;\">\n",
       "      <th></th>\n",
       "      <th>text</th>\n",
       "      <th>class</th>\n",
       "    </tr>\n",
       "  </thead>\n",
       "  <tbody>\n",
       "    <tr>\n",
       "      <th>0</th>\n",
       "      <td>SuperMins, Витамин D3, жидкость, 10 мл Жидкий ...</td>\n",
       "      <td>0</td>\n",
       "    </tr>\n",
       "    <tr>\n",
       "      <th>1</th>\n",
       "      <td>BioExpert, Биоактивный магниевый комплекс (5 ф...</td>\n",
       "      <td>0</td>\n",
       "    </tr>\n",
       "    <tr>\n",
       "      <th>2</th>\n",
       "      <td>Wolfsport+iTAB, Вкусный B-комплекс (вишня), шо...</td>\n",
       "      <td>0</td>\n",
       "    </tr>\n",
       "    <tr>\n",
       "      <th>3</th>\n",
       "      <td>BioExpert, Растительный мелатонин, жидкость, 3...</td>\n",
       "      <td>0</td>\n",
       "    </tr>\n",
       "  </tbody>\n",
       "</table>\n",
       "</div>"
      ],
      "text/plain": [
       "                                                text  class\n",
       "0  SuperMins, Витамин D3, жидкость, 10 мл Жидкий ...      0\n",
       "1  BioExpert, Биоактивный магниевый комплекс (5 ф...      0\n",
       "2  Wolfsport+iTAB, Вкусный B-комплекс (вишня), шо...      0\n",
       "3  BioExpert, Растительный мелатонин, жидкость, 3...      0"
      ]
     },
     "execution_count": 20,
     "metadata": {},
     "output_type": "execute_result"
    }
   ],
   "source": [
    "pc_data.head(4)"
   ]
  },
  {
   "cell_type": "markdown",
   "id": "f7a02edd-3b08-4e54-befb-d20bbce3ac43",
   "metadata": {},
   "source": [
    "Установили клас 0"
   ]
  },
  {
   "cell_type": "markdown",
   "id": "4905185a-9ef3-4597-9ab4-07efce9e7eb8",
   "metadata": {},
   "source": [
    "#### Посмотрим на дисбаланс классов"
   ]
  },
  {
   "cell_type": "code",
   "execution_count": 21,
   "id": "2c04ee89-4957-44f5-ac4f-eba4a906be5c",
   "metadata": {},
   "outputs": [
    {
     "data": {
      "text/plain": [
       "(10000, 1675)"
      ]
     },
     "execution_count": 21,
     "metadata": {},
     "output_type": "execute_result"
    }
   ],
   "source": [
    "cc_data.shape[0], pc_data.shape[0]"
   ]
  },
  {
   "cell_type": "markdown",
   "id": "dc2ddeae-c3dc-4a0d-a82e-320b0f457371",
   "metadata": {},
   "source": [
    "Так как присутствует дисбаланс классов то увеличим датасет продуктов используя генерацию текста на основе существующего"
   ]
  },
  {
   "cell_type": "markdown",
   "id": "8e3f86d3-8bff-4412-9abf-fb71dbf1fd99",
   "metadata": {},
   "source": [
    "#### Устранение дисбаланса классов"
   ]
  },
  {
   "cell_type": "markdown",
   "id": "99608090-f853-4e73-9c9f-ed176faac570",
   "metadata": {},
   "source": [
    "Посмотрим на далинну количество слов в документах"
   ]
  },
  {
   "cell_type": "code",
   "execution_count": 22,
   "id": "ef5d8953-f0a5-4ba7-bcf0-ecd8d7f68bf4",
   "metadata": {},
   "outputs": [
    {
     "data": {
      "application/vnd.jupyter.widget-view+json": {
       "model_id": "f4d9c857406d48f8abae10120bcb89ea",
       "version_major": 2,
       "version_minor": 0
      },
      "text/plain": [
       "  0%|          | 0/1675 [00:00<?, ?it/s]"
      ]
     },
     "metadata": {},
     "output_type": "display_data"
    }
   ],
   "source": [
    "pc_tokens_count = pc_data['text'].progress_apply(lambda x: len(x.split()))"
   ]
  },
  {
   "cell_type": "code",
   "execution_count": 23,
   "id": "c2d2a001-46d4-4a63-b065-85ad35c1bbf6",
   "metadata": {},
   "outputs": [
    {
     "data": {
      "text/plain": [
       "count    1675.000000\n",
       "mean      239.714030\n",
       "std       168.344203\n",
       "min        23.000000\n",
       "25%       130.000000\n",
       "50%       190.000000\n",
       "75%       300.500000\n",
       "max      1392.000000\n",
       "Name: text, dtype: float64"
      ]
     },
     "execution_count": 23,
     "metadata": {},
     "output_type": "execute_result"
    }
   ],
   "source": [
    "pc_tokens_count.describe()"
   ]
  },
  {
   "cell_type": "markdown",
   "id": "9f6766b4-2263-401b-947e-11842d8ff90d",
   "metadata": {},
   "source": [
    "Для генерации текста возьмем за основу 192 токена на документ."
   ]
  },
  {
   "cell_type": "code",
   "execution_count": 24,
   "id": "8e1cc766-546b-4d30-85f1-4cc4ca183058",
   "metadata": {},
   "outputs": [
    {
     "data": {
      "application/vnd.jupyter.widget-view+json": {
       "model_id": "ca710f8984784b32bf5fbd7d92e5b8f4",
       "version_major": 2,
       "version_minor": 0
      },
      "text/plain": [
       "  0%|          | 0/1675 [00:00<?, ?it/s]"
      ]
     },
     "metadata": {},
     "output_type": "display_data"
    }
   ],
   "source": [
    "pc_sentence_count = pc_data['text'].progress_apply(lambda x: len(x.split(\"\\n\")))"
   ]
  },
  {
   "cell_type": "code",
   "execution_count": 25,
   "id": "77f9a188-97b0-4d36-8629-eacb382e0a6c",
   "metadata": {},
   "outputs": [
    {
     "data": {
      "text/plain": [
       "count    1675.000000\n",
       "mean       15.063881\n",
       "std         7.955603\n",
       "min         2.000000\n",
       "25%         9.000000\n",
       "50%        14.000000\n",
       "75%        19.000000\n",
       "max        59.000000\n",
       "Name: text, dtype: float64"
      ]
     },
     "execution_count": 25,
     "metadata": {},
     "output_type": "execute_result"
    }
   ],
   "source": [
    "pc_sentence_count.describe()"
   ]
  },
  {
   "cell_type": "markdown",
   "id": "fd217da1-df4d-4971-8b45-76ad6703415f",
   "metadata": {},
   "source": [
    "Для генерации возьмем 15 предложений на документ"
   ]
  },
  {
   "cell_type": "markdown",
   "id": "d5e5817c-ce48-4327-9720-4f637561bba9",
   "metadata": {},
   "source": [
    "Удалим из признака Description - \"\\n\""
   ]
  },
  {
   "cell_type": "code",
   "execution_count": 26,
   "id": "5446c49e-27c1-4a6d-8a03-1642470718f1",
   "metadata": {},
   "outputs": [
    {
     "data": {
      "application/vnd.jupyter.widget-view+json": {
       "model_id": "7a53cd7796a04112a9bc3eaf47ed333c",
       "version_major": 2,
       "version_minor": 0
      },
      "text/plain": [
       "  0%|          | 0/1675 [00:00<?, ?it/s]"
      ]
     },
     "metadata": {},
     "output_type": "display_data"
    }
   ],
   "source": [
    "pc_data['text'] = pc_data['text'].progress_apply(lambda x: re.sub(r\"\\n\", ' ', x))"
   ]
  },
  {
   "cell_type": "markdown",
   "id": "b1de7939-97c1-4793-8def-a25e04a7f8c1",
   "metadata": {},
   "source": [
    "Преобразуем корпус в список документов"
   ]
  },
  {
   "cell_type": "code",
   "execution_count": 27,
   "id": "164e8beb-02dc-48b3-9ad2-482595d3a794",
   "metadata": {},
   "outputs": [],
   "source": [
    "pc_source_text = pc_data['text'].values.tolist()"
   ]
  },
  {
   "cell_type": "markdown",
   "id": "cf2cbfdf-590c-496a-97da-03b50149eef0",
   "metadata": {},
   "source": [
    "Токенизируем полученный список"
   ]
  },
  {
   "cell_type": "code",
   "execution_count": 28,
   "id": "d8d77a5f-2f61-4a13-a901-2704e8c633f0",
   "metadata": {},
   "outputs": [],
   "source": [
    "pc_tokenized_text = tokenize_sentences(pc_source_text)"
   ]
  },
  {
   "cell_type": "code",
   "execution_count": 29,
   "id": "fd31d3d7-9a13-4da6-a69c-c2bb7de044cb",
   "metadata": {},
   "outputs": [
    {
     "data": {
      "text/plain": [
       "['supermins',\n",
       " 'витамин',\n",
       " 'd',\n",
       " 'жидкость',\n",
       " 'мл',\n",
       " 'жидкий',\n",
       " 'витамин',\n",
       " 'd',\n",
       " 'ме',\n",
       " 'от',\n",
       " 'supermins',\n",
       " 'это',\n",
       " 'must',\n",
       " 'для',\n",
       " 'детей',\n",
       " 'и',\n",
       " 'взрослых',\n",
       " 'EOS',\n",
       " 'ме',\n",
       " 'в']"
      ]
     },
     "execution_count": 29,
     "metadata": {},
     "output_type": "execute_result"
    }
   ],
   "source": [
    "pc_tokenized_text[:20]"
   ]
  },
  {
   "cell_type": "markdown",
   "id": "87bef04c-66f0-4300-94b5-cc34ef77c3b8",
   "metadata": {},
   "source": [
    "Получим словарь с группированными биграмами на основе токенизированного корпуса"
   ]
  },
  {
   "cell_type": "code",
   "execution_count": 30,
   "id": "f8dd36f3-0904-4a24-8caf-78669eab4522",
   "metadata": {},
   "outputs": [],
   "source": [
    "pc_bigramms = get_bigramms(pc_tokenized_text)"
   ]
  },
  {
   "cell_type": "code",
   "execution_count": 31,
   "id": "f88c37da-c89a-4cbc-b343-3f974effa05c",
   "metadata": {},
   "outputs": [
    {
     "data": {
      "text/plain": [
       "[('эффективностью', 6.137840554247002e-05),\n",
       " ('частоты', 2.3016902078426257e-05),\n",
       " ('усвояемостью', 2.3016902078426257e-05),\n",
       " ('сорбционной', 1.5344601385617504e-05),\n",
       " ('степени', 5.3706104849661265e-05),\n",
       " ('биодостоступностью', 2.3016902078426257e-05),\n",
       " ('усвояемости', 2.3016902078426257e-05),\n",
       " ('антагонистической', 2.3016902078426257e-05),\n",
       " ('концентрации', 0.00015344601385617506),\n",
       " ('разглаживающей', 1.5344601385617504e-05),\n",
       " ('температуре', 1.5344601385617504e-05),\n",
       " ('энергией', 1.5344601385617504e-05),\n",
       " ('активностью', 9.206760831370503e-05),\n",
       " ('умственной', 1.5344601385617504e-05),\n",
       " ('нагрузкой', 1.5344601385617504e-05),\n",
       " ('плотности', 1.5344601385617504e-05),\n",
       " ('дозировке', 1.5344601385617504e-05),\n",
       " ('работоспособности', 2.3016902078426257e-05),\n",
       " ('адаптации', 1.5344601385617504e-05),\n",
       " ('биоактивностью', 2.3016902078426257e-05),\n",
       " ('метаболической', 1.5344601385617504e-05),\n",
       " ('дозировкой', 2.3016902078426257e-05),\n",
       " ('абсорбцией', 1.5344601385617504e-05),\n",
       " ('термической', 2.3016902078426257e-05),\n",
       " ('антиокислительной', 2.3016902078426257e-05),\n",
       " ('противоопухолевой', 1.5344601385617504e-05),\n",
       " ('антиоксидантной', 2.3016902078426257e-05),\n",
       " ('естественной', 2.3016902078426257e-05),\n",
       " ('концентрацией', 8.439530762089628e-05),\n",
       " ('биодоступностью', 0.00015344601385617506),\n",
       " ('проницаемости', 1.5344601385617504e-05),\n",
       " ('степенью', 9.206760831370503e-05),\n",
       " ('эффективной', 1.5344601385617504e-05),\n",
       " ('проникающей', 2.3016902078426257e-05),\n",
       " ('фибринолитической', 1.5344601385617504e-05),\n",
       " ('биологической', 0.00012275681108494003),\n",
       " ('способностью', 1.5344601385617504e-05),\n",
       " ('и', 4.6033804156852515e-05)]"
      ]
     },
     "execution_count": 31,
     "metadata": {},
     "output_type": "execute_result"
    }
   ],
   "source": [
    "pc_bigramms['высокой']"
   ]
  },
  {
   "cell_type": "markdown",
   "id": "d7cb240a-c861-4ed2-89c1-7dfa175be86e",
   "metadata": {},
   "source": [
    "Сформируем датасет из случайно сгенерированных документов на основе словаря"
   ]
  },
  {
   "cell_type": "code",
   "execution_count": 32,
   "id": "bb4694ea-e6e0-4860-82a0-680e01134866",
   "metadata": {},
   "outputs": [
    {
     "name": "stdout",
     "output_type": "stream",
     "text": [
      "Количество генерируемых документов: 8325\n",
      "Количество токенов на предложение: 12\n"
     ]
    }
   ],
   "source": [
    "print(f'Количество генерируемых документов: {cc_data.shape[0] - pc_data.shape[0]}\\nКоличество токенов на предложение: {192 // 15}')"
   ]
  },
  {
   "cell_type": "code",
   "execution_count": 33,
   "id": "4e3fc03b-07d8-4d49-b11a-2cd69854a275",
   "metadata": {},
   "outputs": [
    {
     "data": {
      "application/vnd.jupyter.widget-view+json": {
       "model_id": "58ffdd3223514fbb9952e11b678738cd",
       "version_major": 2,
       "version_minor": 0
      },
      "text/plain": [
       "  0%|          | 0/8325 [00:00<?, ?it/s]"
      ]
     },
     "metadata": {},
     "output_type": "display_data"
    }
   ],
   "source": [
    "pc_data_gen = generate_texts(pc_tokenized_text, pc_bigramms, label=0, count_text=8325, count_sent=15, count_word=12)"
   ]
  },
  {
   "cell_type": "code",
   "execution_count": 34,
   "id": "28502eb9-a01b-4971-a1bc-3ca77e2212ea",
   "metadata": {},
   "outputs": [
    {
     "data": {
      "text/plain": [
       "'избытка жиров и относительной влажности воздуха не выше с врачом по применению взрослым. разрыва стенок сосудов способствует улучшению работы мозга от до еды запивая стаканом воды. сберегающий технологический процесс старения организма к компонентам продукта беременность кормление грудью перед применением. песчаный желчегонные свойства комплекс для детей месте при температуре c столовые ложки мл. болеутоляющего ранозаживляющего противоревматического мочегонного желчегонного средства на порцию витамин в форме холекальциферола мкг. побочных эффектов масло cbd масла кбд начинайте, объемом, гиалурановой кислоты мг противопоказания индивидуальная. ультрафиолетовому излучению морозу ветру вредным воздействием внешних загрязнений но только высококачественных натуральных ингредиентов. расширении вен диосмин рутин кверцетин феникулярин относящийся, позвоночнику помогает поддерживать здоровье сердца нормализует. агрессия, климаксе благодаря чему характеризуется структурной стабильностью позволяя расчёсываться, порядок больше чем за. трипептидом содержащимся, присоединяется, микозы, ферментативной активности лизатов дополняется свойствами лекарственных растений трех различных. микpo, размножаться рекомендовано заваривать, гидрофильную структуры волос ногтей а также лицам моложе лет. облысению, противотоксичный противострессовый противоаллергический проивовоспалительный фактор защищает клетки печени капсулы шт океан рыбий. вприкуску добавьте зоэ это натуральный состав комплекса масляно пихты сибирской или через минут. засыпание уменьшает воспаление снижает уровень холестерина повышает иммунитет стимулирует рост полезной микрофлоры кишечника. байкальского шлемника лакрицы центеллы азиатской готу кола экстракт содержит тгк что делает его. '"
      ]
     },
     "execution_count": 34,
     "metadata": {},
     "output_type": "execute_result"
    }
   ],
   "source": [
    "pc_data_gen['text'][0]"
   ]
  },
  {
   "cell_type": "markdown",
   "id": "19755d65-e274-4a2a-98d8-c1470f350651",
   "metadata": {},
   "source": [
    "Понятно что получилась относительная ерунда по смыслу, но для данной задачи это не важно"
   ]
  },
  {
   "cell_type": "markdown",
   "id": "9e419a37-134b-4f38-af6b-11c3f4298f3e",
   "metadata": {},
   "source": [
    "Обьединим два продуктовых датасета"
   ]
  },
  {
   "cell_type": "code",
   "execution_count": 35,
   "id": "d7001f3b-d7cc-48b4-8333-c14ddfff1e21",
   "metadata": {},
   "outputs": [],
   "source": [
    "pc_data_full = pd.concat([pc_data, pc_data_gen], ignore_index=True)"
   ]
  },
  {
   "cell_type": "code",
   "execution_count": 36,
   "id": "be514ddd-ac33-4658-a707-5d52814f577d",
   "metadata": {},
   "outputs": [
    {
     "data": {
      "text/plain": [
       "(10000, 2)"
      ]
     },
     "execution_count": 36,
     "metadata": {},
     "output_type": "execute_result"
    }
   ],
   "source": [
    "pc_data_full.shape"
   ]
  },
  {
   "cell_type": "markdown",
   "id": "acb68ad5-5cb4-4698-b9e1-f7268fd89c9e",
   "metadata": {},
   "source": [
    "Семплируем случайным образом"
   ]
  },
  {
   "cell_type": "code",
   "execution_count": 37,
   "id": "1510c659-1b5d-4b91-8bbc-3807b6b0c595",
   "metadata": {},
   "outputs": [],
   "source": [
    "pc_data_full = pc_data_full.sample(frac=1).reset_index(drop=True)"
   ]
  },
  {
   "cell_type": "markdown",
   "id": "87e9fbab-913b-42ec-870c-232fab454ace",
   "metadata": {},
   "source": [
    "#### Обьединяем продуктовый датасет и датасет общей болталки в один"
   ]
  },
  {
   "cell_type": "code",
   "execution_count": 38,
   "id": "5898319a-116b-487f-8abf-3dc784c43f60",
   "metadata": {},
   "outputs": [],
   "source": [
    "full_data = pd.concat([cc_data, pc_data_full], ignore_index=True)"
   ]
  },
  {
   "cell_type": "code",
   "execution_count": 39,
   "id": "62c48fcc-96f0-4983-9de5-85f848eb028e",
   "metadata": {},
   "outputs": [
    {
     "data": {
      "text/plain": [
       "(20000, 2)"
      ]
     },
     "execution_count": 39,
     "metadata": {},
     "output_type": "execute_result"
    }
   ],
   "source": [
    "full_data.shape"
   ]
  },
  {
   "cell_type": "markdown",
   "id": "ed9879ef-9be6-420e-82f9-3ade42288c03",
   "metadata": {},
   "source": [
    "Перемешаем данные"
   ]
  },
  {
   "cell_type": "code",
   "execution_count": 40,
   "id": "909be2a5-d1d4-4864-990e-5f4714d9a485",
   "metadata": {},
   "outputs": [],
   "source": [
    "full_data = full_data.sample(frac=1).reset_index(drop=True)"
   ]
  },
  {
   "cell_type": "code",
   "execution_count": 41,
   "id": "53f979a6-1779-448d-a0aa-e9839bb095e2",
   "metadata": {},
   "outputs": [
    {
     "data": {
      "text/html": [
       "<div>\n",
       "<style scoped>\n",
       "    .dataframe tbody tr th:only-of-type {\n",
       "        vertical-align: middle;\n",
       "    }\n",
       "\n",
       "    .dataframe tbody tr th {\n",
       "        vertical-align: top;\n",
       "    }\n",
       "\n",
       "    .dataframe thead th {\n",
       "        text-align: right;\n",
       "    }\n",
       "</style>\n",
       "<table border=\"1\" class=\"dataframe\">\n",
       "  <thead>\n",
       "    <tr style=\"text-align: right;\">\n",
       "      <th></th>\n",
       "      <th>text</th>\n",
       "      <th>class</th>\n",
       "    </tr>\n",
       "  </thead>\n",
       "  <tbody>\n",
       "    <tr>\n",
       "      <th>0</th>\n",
       "      <td>у высокоразвитых инопланетян - есть националис...</td>\n",
       "      <td>1</td>\n",
       "    </tr>\n",
       "    <tr>\n",
       "      <th>1</th>\n",
       "      <td>кто знает как эта хрень работает как-то у друг...</td>\n",
       "      <td>1</td>\n",
       "    </tr>\n",
       "    <tr>\n",
       "      <th>2</th>\n",
       "      <td>у меня зрение -4 я ношу очки говорят что очки ...</td>\n",
       "      <td>1</td>\n",
       "    </tr>\n",
       "    <tr>\n",
       "      <th>3</th>\n",
       "      <td>возможен ли капитализм без дешевой рабочей сил...</td>\n",
       "      <td>1</td>\n",
       "    </tr>\n",
       "    <tr>\n",
       "      <th>4</th>\n",
       "      <td>как вам рыбка  очень вкусно выглядит</td>\n",
       "      <td>1</td>\n",
       "    </tr>\n",
       "    <tr>\n",
       "      <th>...</th>\n",
       "      <td>...</td>\n",
       "      <td>...</td>\n",
       "    </tr>\n",
       "    <tr>\n",
       "      <th>19995</th>\n",
       "      <td>как вконтакте кинуть что-нибуть на стену друга...</td>\n",
       "      <td>1</td>\n",
       "    </tr>\n",
       "    <tr>\n",
       "      <th>19996</th>\n",
       "      <td>травяными и эффективную, райское, противоглист...</td>\n",
       "      <td>0</td>\n",
       "    </tr>\n",
       "    <tr>\n",
       "      <th>19997</th>\n",
       "      <td>чем правели эти боги афина афродита дионие гев...</td>\n",
       "      <td>1</td>\n",
       "    </tr>\n",
       "    <tr>\n",
       "      <th>19998</th>\n",
       "      <td>экстрактно комплекс vita, лимфостаз серьезное ...</td>\n",
       "      <td>0</td>\n",
       "    </tr>\n",
       "    <tr>\n",
       "      <th>19999</th>\n",
       "      <td>флавоноидному комплексу способствует, веганов ...</td>\n",
       "      <td>0</td>\n",
       "    </tr>\n",
       "  </tbody>\n",
       "</table>\n",
       "<p>20000 rows × 2 columns</p>\n",
       "</div>"
      ],
      "text/plain": [
       "                                                    text  class\n",
       "0      у высокоразвитых инопланетян - есть националис...      1\n",
       "1      кто знает как эта хрень работает как-то у друг...      1\n",
       "2      у меня зрение -4 я ношу очки говорят что очки ...      1\n",
       "3      возможен ли капитализм без дешевой рабочей сил...      1\n",
       "4                  как вам рыбка  очень вкусно выглядит       1\n",
       "...                                                  ...    ...\n",
       "19995  как вконтакте кинуть что-нибуть на стену друга...      1\n",
       "19996  травяными и эффективную, райское, противоглист...      0\n",
       "19997  чем правели эти боги афина афродита дионие гев...      1\n",
       "19998  экстрактно комплекс vita, лимфостаз серьезное ...      0\n",
       "19999  флавоноидному комплексу способствует, веганов ...      0\n",
       "\n",
       "[20000 rows x 2 columns]"
      ]
     },
     "execution_count": 41,
     "metadata": {},
     "output_type": "execute_result"
    }
   ],
   "source": [
    "full_data"
   ]
  },
  {
   "cell_type": "code",
   "execution_count": 42,
   "id": "4a900005-b37a-4351-9d39-60d2b8a66881",
   "metadata": {},
   "outputs": [
    {
     "data": {
      "text/plain": [
       "1    10000\n",
       "0    10000\n",
       "Name: class, dtype: int64"
      ]
     },
     "execution_count": 42,
     "metadata": {},
     "output_type": "execute_result"
    }
   ],
   "source": [
    "full_data['class'].value_counts()"
   ]
  },
  {
   "cell_type": "markdown",
   "id": "d62c1ce5-c303-4971-9e4f-b8c42227d8f7",
   "metadata": {},
   "source": [
    "Сохраним датасет"
   ]
  },
  {
   "cell_type": "code",
   "execution_count": 43,
   "id": "0400a5c3-5238-4f20-b04a-2e947604f685",
   "metadata": {},
   "outputs": [],
   "source": [
    "full_data.to_csv('clasifier_ds.csv')"
   ]
  },
  {
   "cell_type": "markdown",
   "id": "e8278423-d606-446a-ae49-0fc7d943aef8",
   "metadata": {},
   "source": [
    "#### Разобьем датасет на обучающую и тестовую выборки"
   ]
  },
  {
   "cell_type": "code",
   "execution_count": 44,
   "id": "ff160f80-059d-4347-80ba-812180cf3c86",
   "metadata": {},
   "outputs": [],
   "source": [
    "X_train, X_valid, y_train, y_valid = train_test_split(full_data['text'], full_data['class'], test_size=0.2, shuffle=True, stratify=full_data['class'], random_state=21)"
   ]
  },
  {
   "cell_type": "markdown",
   "id": "25635685-d725-44a0-b1ce-048b341cccfd",
   "metadata": {},
   "source": [
    "### Загрузим мультиязыковую предобученную модель BERT"
   ]
  },
  {
   "cell_type": "code",
   "execution_count": 45,
   "id": "4ec1b850-7e75-4712-92fe-c9377169706b",
   "metadata": {},
   "outputs": [
    {
     "name": "stderr",
     "output_type": "stream",
     "text": [
      "All PyTorch model weights were used when initializing TFBertForSequenceClassification.\n",
      "\n",
      "Some weights or buffers of the TF 2.0 model TFBertForSequenceClassification were not initialized from the PyTorch model and are newly initialized: ['classifier.weight', 'classifier.bias']\n",
      "You should probably TRAIN this model on a down-stream task to be able to use it for predictions and inference.\n"
     ]
    }
   ],
   "source": [
    "tokenizer = AutoTokenizer.from_pretrained(\"bert-base-multilingual-cased\")\n",
    "model = TFAutoModelForSequenceClassification.from_pretrained(\"bert-base-multilingual-cased\")"
   ]
  },
  {
   "cell_type": "markdown",
   "id": "c3539689-7a06-4146-9328-481c42ad4be8",
   "metadata": {},
   "source": [
    "#### Выполняем токенизацию датасета для текста"
   ]
  },
  {
   "cell_type": "code",
   "execution_count": 46,
   "id": "454bd73d-c092-465b-9009-2e6ae5a63f0d",
   "metadata": {},
   "outputs": [],
   "source": [
    "train_tokenized = tokenizer(X_train.to_list(), padding='max_length', truncation=True, return_tensors='tf')\n",
    "valid_tokenized = tokenizer(X_valid.to_list(), padding='max_length', truncation=True, return_tensors='tf')"
   ]
  },
  {
   "cell_type": "markdown",
   "id": "259b27fc-34fb-49be-8ece-06532d1301f8",
   "metadata": {},
   "source": [
    "#### Выполняем OHE для классов"
   ]
  },
  {
   "cell_type": "code",
   "execution_count": 47,
   "id": "2cc19381-d522-4fff-9af3-c02a774e5094",
   "metadata": {},
   "outputs": [],
   "source": [
    "num_classes = 2\n",
    "train_labels = tf.keras.utils.to_categorical(y_train.to_list(), num_classes)\n",
    "valid_labels = tf.keras.utils.to_categorical(y_valid.to_list(), num_classes)"
   ]
  },
  {
   "cell_type": "markdown",
   "id": "b078e58b-f24b-4760-b304-befeaf7c656d",
   "metadata": {},
   "source": [
    "#### Создаем датасеты"
   ]
  },
  {
   "cell_type": "code",
   "execution_count": 48,
   "id": "dd6423fa-885d-4e1f-a0a1-646919c1b6e7",
   "metadata": {},
   "outputs": [],
   "source": [
    "train_features = {x: train_tokenized[x] for x in tokenizer.model_input_names}\n",
    "train_dataset = tf.data.Dataset.from_tensor_slices((train_features, train_labels))\n",
    "train_dataset = train_dataset.shuffle(len(train_tokenized)).batch(8)\n",
    "\n",
    "valid_features = {x: valid_tokenized[x] for x in tokenizer.model_input_names}\n",
    "valid_dataset = tf.data.Dataset.from_tensor_slices((valid_features, valid_labels))\n",
    "valid_dataset = valid_dataset.shuffle(len(valid_tokenized)).batch(8)"
   ]
  },
  {
   "cell_type": "markdown",
   "id": "2a60069a-7c68-4e53-b343-1cefdf5378bd",
   "metadata": {},
   "source": [
    "#### Оставим для обучения только слой классификации"
   ]
  },
  {
   "cell_type": "code",
   "execution_count": 49,
   "id": "2f16f446-803f-4fe3-a45d-465d743710bc",
   "metadata": {},
   "outputs": [],
   "source": [
    "model.layers[0].trainable = False"
   ]
  },
  {
   "cell_type": "markdown",
   "id": "8a69b732-ee2e-4c19-bb33-f5fbdabd128a",
   "metadata": {},
   "source": [
    "#### Определим оптимизатор и функцию потерь и скомпилируем модель"
   ]
  },
  {
   "cell_type": "code",
   "execution_count": 50,
   "id": "51ec5345-3e90-4fdb-ba09-a7dfb2941b39",
   "metadata": {},
   "outputs": [
    {
     "name": "stdout",
     "output_type": "stream",
     "text": [
      "Model: \"tf_bert_for_sequence_classification\"\n",
      "_________________________________________________________________\n",
      " Layer (type)                Output Shape              Param #   \n",
      "=================================================================\n",
      " bert (TFBertMainLayer)      multiple                  177853440 \n",
      "                                                                 \n",
      " dropout_37 (Dropout)        multiple                  0         \n",
      "                                                                 \n",
      " classifier (Dense)          multiple                  1538      \n",
      "                                                                 \n",
      "=================================================================\n",
      "Total params: 177,854,978\n",
      "Trainable params: 1,538\n",
      "Non-trainable params: 177,853,440\n",
      "_________________________________________________________________\n"
     ]
    }
   ],
   "source": [
    "model.compile(optimizer=\"Adam\", loss=tf.keras.losses.CategoricalCrossentropy(from_logits=True),\n",
    "              metrics=['accuracy'])\n",
    "model.summary()"
   ]
  },
  {
   "cell_type": "markdown",
   "id": "9e00cec3-2a1b-4f44-b7ba-2e37ea9e25ca",
   "metadata": {},
   "source": [
    "### Обучим модель"
   ]
  },
  {
   "cell_type": "code",
   "execution_count": 57,
   "id": "c98b62bf-ec25-4aba-bed8-4632d2fee2d6",
   "metadata": {},
   "outputs": [
    {
     "name": "stdout",
     "output_type": "stream",
     "text": [
      "2000/2000 [==============================] - 362s 181ms/step - loss: 0.0484 - accuracy: 0.9861 - val_loss: 0.0198 - val_accuracy: 0.9960\n"
     ]
    },
    {
     "data": {
      "text/plain": [
       "<keras.callbacks.History at 0x1e9149184f0>"
      ]
     },
     "execution_count": 57,
     "metadata": {},
     "output_type": "execute_result"
    }
   ],
   "source": [
    "model.fit(train_dataset, validation_data=valid_dataset, epochs=3)"
   ]
  },
  {
   "cell_type": "markdown",
   "id": "7d422a5e-5166-4258-9cd3-11ac64280179",
   "metadata": {},
   "source": [
    "#### Оценим качество модели"
   ]
  },
  {
   "cell_type": "code",
   "execution_count": 58,
   "id": "b256e2ea-b96d-47d6-9279-31641b60f040",
   "metadata": {},
   "outputs": [
    {
     "name": "stdout",
     "output_type": "stream",
     "text": [
      "500/500 [==============================] - 61s 122ms/step\n",
      "\n",
      "               precision    recall  f1-score   support\n",
      "\n",
      "           0       0.57      0.57      0.57      2000\n",
      "           1       0.57      0.57      0.57      2000\n",
      "\n",
      "    accuracy                           0.57      4000\n",
      "   macro avg       0.57      0.57      0.57      4000\n",
      "weighted avg       0.57      0.57      0.57      4000\n",
      "\n",
      "500/500 [==============================] - 127s 253ms/step - loss: 0.0198 - accuracy: 0.9960\n"
     ]
    },
    {
     "data": {
      "text/plain": [
       "[0.01977398805320263, 0.9959999918937683]"
      ]
     },
     "execution_count": 58,
     "metadata": {},
     "output_type": "execute_result"
    }
   ],
   "source": [
    "model.evaluate(valid_dataset, callbacks=[My_Metrics()])"
   ]
  },
  {
   "cell_type": "markdown",
   "id": "dd0032df-aa95-46d2-84c6-660207b69c2e",
   "metadata": {},
   "source": [
    "#### Сохраняем модель и токенайзер"
   ]
  },
  {
   "cell_type": "code",
   "execution_count": 53,
   "id": "48bc6b56-784b-4d9b-a318-88152eb2709e",
   "metadata": {},
   "outputs": [],
   "source": [
    "tokenizer.save_pretrained('classifier_tk')\n",
    "model.save_pretrained('classifier_model')"
   ]
  },
  {
   "cell_type": "markdown",
   "id": "39590233-6410-4542-a605-9d96ecabee97",
   "metadata": {},
   "source": [
    "#### Загружаем ранее сохраненные токенайзер и модель"
   ]
  },
  {
   "cell_type": "code",
   "execution_count": 54,
   "id": "972460eb-a642-41b2-8b6f-8d44c4425ee3",
   "metadata": {},
   "outputs": [
    {
     "name": "stderr",
     "output_type": "stream",
     "text": [
      "Special tokens have been added in the vocabulary, make sure the associated word embeddings are fine-tuned or trained.\n",
      "Some layers from the model checkpoint at classifier_model were not used when initializing TFBertForSequenceClassification: ['dropout_37']\n",
      "- This IS expected if you are initializing TFBertForSequenceClassification from the checkpoint of a model trained on another task or with another architecture (e.g. initializing a BertForSequenceClassification model from a BertForPreTraining model).\n",
      "- This IS NOT expected if you are initializing TFBertForSequenceClassification from the checkpoint of a model that you expect to be exactly identical (initializing a BertForSequenceClassification model from a BertForSequenceClassification model).\n",
      "All the layers of TFBertForSequenceClassification were initialized from the model checkpoint at classifier_model.\n",
      "If your task is similar to the task the model of the checkpoint was trained on, you can already use TFBertForSequenceClassification for predictions without further training.\n"
     ]
    }
   ],
   "source": [
    "tokenizer_l = AutoTokenizer.from_pretrained('classifier_tk')\n",
    "model_l = TFAutoModelForSequenceClassification.from_pretrained('classifier_model')"
   ]
  },
  {
   "cell_type": "markdown",
   "id": "4b2e590a-b46a-424f-b70f-798e2105b175",
   "metadata": {},
   "source": [
    "#### Протестируем классификацию"
   ]
  },
  {
   "cell_type": "code",
   "execution_count": 55,
   "id": "967b197e-1801-489d-9595-e0c3f83e4a19",
   "metadata": {},
   "outputs": [],
   "source": [
    "sentences = ['Привет','Как дела','витамины', 'Я нашел 2 миллиона вчера, что мне делать','Биоактивный магниевый комплекс','Мелатонин', 'витаминный комплекс']"
   ]
  },
  {
   "cell_type": "code",
   "execution_count": 56,
   "id": "75dbb644-0905-4793-8963-41c1c1ce53a3",
   "metadata": {},
   "outputs": [
    {
     "name": "stdout",
     "output_type": "stream",
     "text": [
      "Привет\n",
      "\tПредсказание: [[-1.8611946  1.8603203]]\n",
      "\tПредсказаный класс: 1\n",
      "Как дела\n",
      "\tПредсказание: [[-2.3803205  2.4190655]]\n",
      "\tПредсказаный класс: 1\n",
      "витамины\n",
      "\tПредсказание: [[ 1.5154307 -1.4790545]]\n",
      "\tПредсказаный класс: 0\n",
      "Я нашел 2 миллиона вчера, что мне делать\n",
      "\tПредсказание: [[-3.6493368  3.7352328]]\n",
      "\tПредсказаный класс: 1\n",
      "Биоактивный магниевый комплекс\n",
      "\tПредсказание: [[ 0.9874413 -0.9530679]]\n",
      "\tПредсказаный класс: 0\n",
      "Мелатонин\n",
      "\tПредсказание: [[-1.1008012  1.1232004]]\n",
      "\tПредсказаный класс: 1\n",
      "витаминный комплекс\n",
      "\tПредсказание: [[ 0.74465954 -0.7238703 ]]\n",
      "\tПредсказаный класс: 0\n"
     ]
    }
   ],
   "source": [
    "for sent in sentences:\n",
    "    pred, label = get_prediction(sent, tokenizer_l, model_l)\n",
    "    print(f'{sent}\\n\\tПредсказание: {pred}\\n\\tПредсказаный класс: {label}')"
   ]
  },
  {
   "cell_type": "markdown",
   "id": "8d9a4459-6f55-4c72-9d23-f85559be21ed",
   "metadata": {},
   "source": [
    "Ну в целом не плохо, думал что после генрации будет хуже"
   ]
  }
 ],
 "metadata": {
  "kernelspec": {
   "display_name": "Python 3 (ipykernel)",
   "language": "python",
   "name": "python3"
  },
  "language_info": {
   "codemirror_mode": {
    "name": "ipython",
    "version": 3
   },
   "file_extension": ".py",
   "mimetype": "text/x-python",
   "name": "python",
   "nbconvert_exporter": "python",
   "pygments_lexer": "ipython3",
   "version": "3.10.13"
  }
 },
 "nbformat": 4,
 "nbformat_minor": 5
}
